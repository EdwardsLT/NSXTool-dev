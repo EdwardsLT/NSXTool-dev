{
 "cells": [
  {
   "cell_type": "code",
   "execution_count": 1,
   "metadata": {
    "collapsed": true
   },
   "outputs": [],
   "source": [
    "import glob\n",
    "\n",
    "import numpy\n",
    "\n",
    "import pynsx as nsx"
   ]
  },
  {
   "cell_type": "code",
   "execution_count": 2,
   "metadata": {
    "collapsed": true
   },
   "outputs": [],
   "source": [
    "####################################\n",
    "# IMPORT DATA\n",
    "####################################\n",
    "\n",
    "# Create an experiment for D19 data\n",
    "expt = nsx.Experiment('test','D19')\n",
    "\n",
    "# Get the D19 diffractometer\n",
    "diffractometer = expt.getDiffractometer()\n",
    "\n",
    "# Read the D19 datas\n",
    "data_files = glob.glob(\"/home/pellegrini/data/d19/reference_data/thom/y-corrected-data/*.h5\")\n",
    "\n",
    "# Loop over the data files\n",
    "numors = nsx.vector_data()\n",
    "for f in data_files[0:5]:\n",
    "    reader = nsx.HDF5DataReader(f,diffractometer)\n",
    "    # Discard the data with a low number of frames (unlikely to be \"production\" data)\n",
    "    if (reader.getNFrames() < 900):\n",
    "        continue\n",
    "\n",
    "    # Build the dataset\n",
    "    data = nsx.DataSet(reader,diffractometer)\n",
    "\n",
    "    # Add the data to the experiment\n",
    "    expt.addData(data)\n",
    "\n",
    "    numors.push_back(data)"
   ]
  },
  {
   "cell_type": "code",
   "execution_count": 3,
   "metadata": {
    "collapsed": true
   },
   "outputs": [],
   "source": [
    "####################################\n",
    "# PEAK FIND\n",
    "####################################\n",
    "\n",
    "# Create a kernel for convoluting images prior searching for peak\n",
    "kernel = nsx.AnnularKernel(data.getNRows(),data.getNCols())\n",
    "kernel_image = kernel.getKernel()\n",
    "convolver = nsx.Convolver()\n",
    "convolver.setKernel(kernel_image)\n",
    "\n",
    "# Setup the peak finder algorithm\n",
    "finder = nsx.PeakFinder()\n",
    "finder.setConvolver(convolver)\n",
    "finder.setMinComponents(30)\n",
    "finder.setMaxComponents(10000)\n",
    "finder.setSearchConfidence(0.67)\n",
    "finder.setIntegrationConfidence(0.98)\n",
    "finder.setThresholdType(1)\n",
    "finder.setThresholdValue(0.4)\n",
    "finder.setKernel(kernel)\n",
    "\n",
    "# Search for peaks\n",
    "peaks = finder.find(numors)"
   ]
  },
  {
   "cell_type": "code",
   "execution_count": 4,
   "metadata": {},
   "outputs": [
    {
     "name": "stdout",
     "output_type": "stream",
     "text": [
      "idx:   0 --- a =   5.58  b =  16.59  c =  17.05  alpha =  71.28  beta =  83.84  gamma =  89.74 --- % indexed = 99.41\n",
      "idx:   1 --- a =   5.61  b =  16.50  c =  17.16  alpha =  71.33  beta =  83.42  gamma =  89.72 --- % indexed = 99.41\n",
      "idx:   2 --- a =   5.61  b =  16.50  c =  17.16  alpha =  71.33  beta =  83.42  gamma =  89.72 --- % indexed = 99.41\n",
      "idx:   3 --- a =   5.58  b =   5.53  c =  16.15  alpha =  90.00  beta =  96.42  gamma =  90.00 --- % indexed = 97.63\n",
      "idx:   4 --- a =   5.58  b =   5.53  c =  16.15  alpha =  90.00  beta =  96.42  gamma =  90.00 --- % indexed = 97.63\n",
      "idx:   5 --- a =   5.58  b =   5.53  c =  16.15  alpha =  90.00  beta =  96.42  gamma =  90.00 --- % indexed = 97.63\n",
      "idx:   6 --- a =   5.58  b =   5.53  c =  16.15  alpha =  90.00  beta =  96.42  gamma =  90.00 --- % indexed = 97.63\n",
      "idx:   7 --- a =   5.58  b =   5.53  c =  16.15  alpha =  90.00  beta =  96.42  gamma =  90.00 --- % indexed = 97.63\n",
      "idx:   8 --- a =   5.58  b =  11.06  c =  17.05  alpha =  71.29  beta =  83.85  gamma =  89.78 --- % indexed = 97.63\n",
      "idx:   9 --- a =   7.84  b =  12.41  c =  16.49  alpha =  96.16  beta =  99.16  gamma = 107.95 --- % indexed = 97.63\n",
      "idx:  10 --- a =  12.47  b =  16.49  c =  17.49  alpha =  93.90  beta =  97.97  gamma = 101.94 --- % indexed = 97.63\n",
      "idx:  11 --- a =   5.62  b =  11.01  c =  16.26  alpha =  90.00  beta =  96.89  gamma =  90.00 --- % indexed = 97.04\n",
      "idx:  12 --- a =  12.37  b =  12.50  c =  16.56  alpha =  78.59  beta =  84.10  gamma =  89.00 --- % indexed = 97.04\n",
      "idx:  13 --- a =  17.49  b =  17.64  c =  17.09  alpha =  90.00  beta = 110.11  gamma =  90.00 --- % indexed = 96.45\n",
      "idx:  14 --- a =  17.40  b =  18.66  c =  21.66  alpha = 108.69  beta = 110.16  gamma =  98.61 --- % indexed = 94.67\n",
      "idx:  15 --- a =   5.62  b =   5.61  c =  16.31  alpha =  90.00  beta =  96.75  gamma =  90.00 --- % indexed = 94.08\n",
      "idx:  16 --- a =   5.62  b =   5.61  c =  16.31  alpha =  90.00  beta =  96.75  gamma =  90.00 --- % indexed = 94.08\n",
      "idx:  17 --- a =  12.53  b =  17.17  c =  17.44  alpha =  70.31  beta =  82.40  gamma =  87.76 --- % indexed = 94.08\n",
      "idx:  18 --- a =   5.61  b =   0.34  c =  18.60  alpha =  90.00  beta =  95.30  gamma =  90.00 --- % indexed = 38.46\n",
      "idx:  19 --- a =   5.61  b =   0.51  c =  18.60  alpha =  90.00  beta =  95.30  gamma =  90.00 --- % indexed = 37.87\n",
      "idx:  20 --- a =   5.61  b =   0.34  c =  18.60  alpha =  90.00  beta =  84.70  gamma =  90.00 --- % indexed = 37.28\n",
      "idx:  21 --- a =   5.61  b =   0.68  c =  18.60  alpha =  90.00  beta =  95.30  gamma =  90.00 --- % indexed = 33.14\n",
      "idx:  22 --- a =   5.58  b =   0.38  c =  15.53  alpha =  90.00  beta =  97.40  gamma =  90.00 --- % indexed = 27.81\n",
      "idx:  23 --- a =   5.58  b =   0.37  c =  15.53  alpha =  90.00  beta =  97.39  gamma =  90.00 --- % indexed = 25.44\n",
      "idx:  24 --- a =   5.58  b =   0.75  c =  15.53  alpha =  90.00  beta =  82.58  gamma =  90.00 --- % indexed = 24.85\n",
      "idx:  25 --- a =   5.58  b =   0.57  c =  15.53  alpha =  90.00  beta =  82.59  gamma =  90.00 --- % indexed = 23.08\n"
     ]
    }
   ],
   "source": [
    "####################################\n",
    "# AUTO-INDEXING\n",
    "####################################\n",
    "\n",
    "indexer = nsx.AutoIndexer(nsx.ProgressHandler())\n",
    "\n",
    "for peak in peaks:\n",
    "    if peak.isSelected() and not peak.isMasked():\n",
    "        indexer.addPeak(peak)\n",
    "\n",
    "params = nsx.IndexerParameters()\n",
    "indexer.autoIndex(params)\n",
    "\n",
    "solutions = indexer.getSolutions()\n",
    "\n",
    "cell_parameters = []\n",
    "\n",
    "for idx, (uc,score) in enumerate(solutions):\n",
    "\n",
    "    a     = uc.character().a\n",
    "    b     = uc.character().b\n",
    "    c     = uc.character().c\n",
    "    alpha = numpy.rad2deg(uc.character().alpha)\n",
    "    beta  = numpy.rad2deg(uc.character().beta)\n",
    "    gamma = numpy.rad2deg(uc.character().gamma)\n",
    "\n",
    "    cell_parameters.append((idx,a,b,c,alpha,beta,gamma,score))\n",
    "\n",
    "    print(\"idx: {0:3d} --- a = {1:6.2f}  b = {2:6.2f}  c = {3:6.2f}  alpha = {4:6.2f}  beta = {5:6.2f}  gamma = {6:6.2f} --- % indexed = {7:5.2f}\".format(*(cell_parameters[-1])))\n"
   ]
  },
  {
   "cell_type": "code",
   "execution_count": 5,
   "metadata": {},
   "outputs": [
    {
     "name": "stdout",
     "output_type": "stream",
     "text": [
      "Enter the selected unit cell id:5\n"
     ]
    }
   ],
   "source": [
    "selected_cell = int(input(\"Enter the selected unit cell id:\"))\n",
    "assert(selected_cell >= 0 and selected_cell < len(solutions))"
   ]
  },
  {
   "cell_type": "code",
   "execution_count": 13,
   "metadata": {
    "collapsed": true
   },
   "outputs": [],
   "source": [
    "uc = nsx.UnitCell(solutions[selected_cell][0])\n",
    "sample = diffractometer.getSample()\n",
    "sample.addUnitCell(uc)\n",
    "\n",
    "for peak in peaks:\n",
    "    if peak.isSelected() and not peak.isMasked():\n",
    "        peak.addUnitCell(uc, True)"
   ]
  },
  {
   "cell_type": "code",
   "execution_count": 18,
   "metadata": {},
   "outputs": [
    {
     "name": "stdout",
     "output_type": "stream",
     "text": [
      "idx:   0 --- symbol = P 2         --- % non-extincted peaks = 100.00\n",
      "idx:   1 --- symbol = P 21        --- % non-extincted peaks = 100.00\n",
      "idx:   2 --- symbol = P m         --- % non-extincted peaks = 100.00\n",
      "idx:   3 --- symbol = P c         --- % non-extincted peaks = 100.00\n",
      "idx:   4 --- symbol = P 2/m       --- % non-extincted peaks = 100.00\n",
      "idx:   5 --- symbol = P 21/m      --- % non-extincted peaks = 100.00\n",
      "idx:   6 --- symbol = P 2/c       --- % non-extincted peaks = 100.00\n",
      "idx:   7 --- symbol = P 21/c      --- % non-extincted peaks = 100.00\n"
     ]
    }
   ],
   "source": [
    "####################################\n",
    "# SPACE-GROUP\n",
    "####################################\n",
    "\n",
    "compatible_space_groups = uc.compatibleSpaceGroups()\n",
    "\n",
    "hkls = nsx.vectorRowVector3d()\n",
    "for peak in peaks:\n",
    "    if peak.isSelected() and not peak.isMasked():\n",
    "        hkls.append(numpy.array(uc.getIntegerMillerIndices(peak.getQ()),dtype=numpy.float))\n",
    "\n",
    "space_groups = []\n",
    "for idx,symbol in enumerate(compatible_space_groups):\n",
    "    sg = nsx.SpaceGroup(symbol)\n",
    "    space_groups.append((idx,symbol,100.0*(1.0-sg.fractionExtinct(hkls))))\n",
    "    print(\"idx: {0:3d} --- symbol = {1:10s}  --- % non-extincted peaks = {2:6.2f}\".format(*(space_groups[-1])))"
   ]
  },
  {
   "cell_type": "code",
   "execution_count": 19,
   "metadata": {},
   "outputs": [
    {
     "name": "stdout",
     "output_type": "stream",
     "text": [
      "Enter the selected space group id:1\n"
     ]
    }
   ],
   "source": [
    "selected_space_group = int(input(\"Enter the selected space group id:\"))\n",
    "assert(selected_space_group >= 0 and selected_space_group < len(space_groups))"
   ]
  },
  {
   "cell_type": "code",
   "execution_count": 20,
   "metadata": {
    "collapsed": true
   },
   "outputs": [],
   "source": [
    "uc.setSpaceGroup(space_groups[selected_space_group][1])"
   ]
  },
  {
   "cell_type": "code",
   "execution_count": 21,
   "metadata": {},
   "outputs": [
    {
     "name": "stdout",
     "output_type": "stream",
     "text": [
      "P 21\n"
     ]
    }
   ],
   "source": [
    "print(uc.getSpaceGroup())"
   ]
  },
  {
   "cell_type": "code",
   "execution_count": null,
   "metadata": {
    "collapsed": true
   },
   "outputs": [],
   "source": []
  },
  {
   "cell_type": "code",
   "execution_count": null,
   "metadata": {
    "collapsed": true
   },
   "outputs": [],
   "source": []
  }
 ],
 "metadata": {
  "kernelspec": {
   "display_name": "Python 3",
   "language": "python",
   "name": "python3"
  },
  "language_info": {
   "codemirror_mode": {
    "name": "ipython",
    "version": 3
   },
   "file_extension": ".py",
   "mimetype": "text/x-python",
   "name": "python",
   "nbconvert_exporter": "python",
   "pygments_lexer": "ipython3",
   "version": "3.5.2"
  }
 },
 "nbformat": 4,
 "nbformat_minor": 2
}
