{
 "cells": [
  {
   "cell_type": "code",
   "execution_count": 5,
   "metadata": {
    "collapsed": true
   },
   "outputs": [],
   "source": [
    "import pynsx as nsx\n",
    "import math\n",
    "import numpy as np\n",
    "from matplotlib import pyplot as plt\n",
    "from os import path"
   ]
  },
  {
   "cell_type": "code",
   "execution_count": 6,
   "metadata": {
    "collapsed": true
   },
   "outputs": [],
   "source": [
    "expt = nsx.Experiment('test', 'BioDiff2500')\n",
    "diff = expt.getDiffractometer()\n",
    "filename = path.expanduser(\"~/data/biodiff/p11202.hdf\")\n",
    "reader = nsx.HDF5DataReader(filename, diff)\n",
    "data = nsx.DataSet(reader, diff)\n",
    "expt.addData(data)"
   ]
  },
  {
   "cell_type": "code",
   "execution_count": 7,
   "metadata": {},
   "outputs": [
    {
     "name": "stdout",
     "output_type": "stream",
     "text": [
      "9200\n"
     ]
    }
   ],
   "source": [
    "kernel = nsx.AnnularKernel(data.nRows(), data.nCols())\n",
    "convolver = nsx.Convolver()\n",
    "convolver.setKernel(kernel.matrix())\n",
    "\n",
    "finder = nsx.PeakFinder()\n",
    "finder.setConvolver(convolver)\n",
    "finder.setMinComponents(30)\n",
    "finder.setMaxComponents(10000)\n",
    "finder.setIntegrationScale(3.0)\n",
    "finder.setBackgroundScale(5.0)\n",
    "finder.setSearchScale(1.0)\n",
    "finder.setThresholdType(1)\n",
    "finder.setThresholdValue(80.0)\n",
    "finder.setKernel(kernel)\n",
    "\n",
    "peaks = finder.find([data])\n",
    "print(len(peaks))"
   ]
  },
  {
   "cell_type": "code",
   "execution_count": 8,
   "metadata": {
    "collapsed": true
   },
   "outputs": [],
   "source": [
    "for peak in peaks:\n",
    "    peak.setSelected(True)"
   ]
  },
  {
   "cell_type": "code",
   "execution_count": 9,
   "metadata": {},
   "outputs": [
    {
     "name": "stdout",
     "output_type": "stream",
     "text": [
      "7573\n"
     ]
    }
   ],
   "source": [
    "# clean up peaks\n",
    "good_peaks = []\n",
    "\n",
    "for peak in peaks:\n",
    "    I = peak.correctedIntensity().value()\n",
    "    \n",
    "    # keep only selected peaks\n",
    "    if not peak.isSelected():\n",
    "        continue\n",
    "    \n",
    "    # keep only strong peaks for autoindex\n",
    "    if I < 1000.0:\n",
    "        continue\n",
    "        \n",
    "    d = 1.0 / np.linalg.norm(peak.q().rowVector())\n",
    "    \n",
    "    # keep peaks only in specified d range\n",
    "    if d > 40.0 or d < 1.8:\n",
    "        continue\n",
    "        \n",
    "    good_peaks.append(peak)\n",
    "    \n",
    "print(len(good_peaks))"
   ]
  },
  {
   "cell_type": "code",
   "execution_count": 10,
   "metadata": {},
   "outputs": [
    {
     "name": "stdout",
     "output_type": "stream",
     "text": [
      "auto indexing 7573 peaks\n",
      "indexed 5089 of 7573\n",
      "found unit cell with parameters: \n",
      "a:  54.64584158786885\n",
      "b:  58.31619467682656\n",
      "c:  67.20152626082688\n",
      "alpha:  1.5707963267948966\n",
      "beta:  1.5707963267948966\n",
      "gamma:  1.5707963267948968\n"
     ]
    }
   ],
   "source": [
    "indexer = nsx.AutoIndexer(nsx.ProgressHandler())\n",
    "\n",
    "for peak in good_peaks:\n",
    "    indexer.addPeak(peak)\n",
    "\n",
    "print(\"auto indexing\", len(good_peaks), \"peaks\")\n",
    "        \n",
    "params = nsx.IndexerParameters()\n",
    "handler = nsx.ProgressHandler()\n",
    "indexer.autoIndex(params)\n",
    "\n",
    "soln = indexer.getSolutions()[0]\n",
    "assert(soln[1] > 92.0)\n",
    "\n",
    "uc = nsx.UnitCell(soln[0])\n",
    "sample = diff.getSample()\n",
    "sample.addUnitCell(uc)\n",
    "\n",
    "indexed_peaks = []\n",
    "\n",
    "for peak in good_peaks:\n",
    "    hkl = nsx.MillerIndex(peak.q(), uc)\n",
    "    if np.linalg.norm(hkl.error()) < 0.2:\n",
    "        peak.addUnitCell(uc, True)\n",
    "        indexed_peaks.append(peak)\n",
    "    \n",
    "ch = uc.character()\n",
    "print(\"indexed\", len(indexed_peaks), \"of\", len(good_peaks))\n",
    "print(\"found unit cell with parameters: \")\n",
    "print(\"a: \", ch.a)\n",
    "print(\"b: \", ch.b)\n",
    "print(\"c: \", ch.c)\n",
    "print(\"alpha: \", ch.alpha)\n",
    "print(\"beta: \", ch.beta)\n",
    "print(\"gamma: \", ch.gamma)"
   ]
  },
  {
   "cell_type": "code",
   "execution_count": 11,
   "metadata": {},
   "outputs": [
    {
     "name": "stdout",
     "output_type": "stream",
     "text": [
      "refinement successful: True\n"
     ]
    }
   ],
   "source": [
    "nbatches = int(data.nFrames() / 5)\n",
    "#nbatches = 1\n",
    "states = data.instrumentStates()\n",
    "\n",
    "refiner = nsx.Refiner(uc, indexed_peaks, nbatches)\n",
    "\n",
    "refiner.refineSamplePosition(states)\n",
    "refiner.refineKi(states)\n",
    "refiner.refineSampleOrientation(states)\n",
    "#refiner.refineU()\n",
    "refiner.refineB()\n",
    "\n",
    "success = refiner.refine(200)\n",
    "\n",
    "print(\"refinement successful:\", success)"
   ]
  },
  {
   "cell_type": "code",
   "execution_count": 13,
   "metadata": {
    "collapsed": true
   },
   "outputs": [],
   "source": [
    "def find_batch(peak, batches):\n",
    "    z = peak.getShape().center()[2,0]\n",
    "    \n",
    "    for b in batches:\n",
    "        if b.contains(z):\n",
    "            return b\n",
    "        \n",
    "    return None\n",
    "\n",
    "def reindex(peak_list, batches):          \n",
    "    new_peaks = []\n",
    "    \n",
    "    for peak in peak_list:\n",
    "        \n",
    "        batch = find_batch(peak, batches)\n",
    "        \n",
    "        if batch is None:\n",
    "            continue\n",
    "        \n",
    "        hkl = np.array([[0.,0.,0.]])\n",
    "        uc = batch.cell()\n",
    "        \n",
    "        if nsx.MillerIndex(peak.q(), uc).indexed(0.2):\n",
    "            peak.addUnitCell(uc, True)\n",
    "            new_peaks.append(peak)\n",
    "            \n",
    "    return new_peaks\n",
    "\n",
    "refined_peaks = reindex(indexed_peaks, refiner.batches())"
   ]
  },
  {
   "cell_type": "code",
   "execution_count": 14,
   "metadata": {},
   "outputs": [
    {
     "name": "stdout",
     "output_type": "stream",
     "text": [
      "5089\n"
     ]
    }
   ],
   "source": [
    "fit_data = []\n",
    "standard_fit_data = []\n",
    "\n",
    "#begin_frame = 50\n",
    "#end_frame = begin_frame+5\n",
    "\n",
    "begin_frame = 0\n",
    "end_frame = begin_frame+400\n",
    "\n",
    "class FitData:\n",
    "    def __init__(self, peak):\n",
    "        self.valid = False\n",
    "        cov = peak.qShape().inverseMetric()\n",
    "        cov = 0.5*(cov + cov.transpose())\n",
    "        \n",
    "\n",
    "        if np.isnan(np.linalg.norm(cov)):\n",
    "            return\n",
    "\n",
    "        C = np.linalg.cond(cov)    \n",
    "        if np.isnan(C) or C > 1e4:\n",
    "            return\n",
    "\n",
    "        w, u = np.linalg.eig(cov)\n",
    "\n",
    "        if min(w) < 0:\n",
    "            return\n",
    "\n",
    "        detector = peak.data().diffractometer().getDetector()\n",
    "        center = peak.getShape().center()\n",
    "\n",
    "        frame = center[2,0]\n",
    "\n",
    "        if (frame < begin_frame):\n",
    "            return\n",
    "        \n",
    "        if (frame > end_frame):\n",
    "            return\n",
    "\n",
    "        state = peak.data().interpolatedState(frame)\n",
    "\n",
    "        Jd = state.jacobianQ(nsx.DetectorEvent(center))\n",
    "\n",
    "        px = center[0,0]\n",
    "        py = center[1,0]\n",
    "\n",
    "        p = detector.pixelPosition(px, py).vector()\n",
    "        p0 = state.samplePosition\n",
    "\n",
    "        r = np.linalg.norm(p-p0)\n",
    "        dp = p-p0\n",
    "\n",
    "        Jp = -1/r*np.identity(3) + 1/r**3 * dp.dot(dp.transpose())\n",
    "\n",
    "        rot = state.sampleOrientationMatrix()\n",
    "        ki = state.ki().rowVector()\n",
    "        qLab = peak.qPredicted().rowVector().dot(rot.transpose())\n",
    "        kf = qLab + ki\n",
    "        kf /= np.linalg.norm(kf)\n",
    "        kf *= np.linalg.norm(ki)\n",
    "\n",
    "        Jk = kf.transpose().dot(ki) / np.linalg.norm(ki)**2 - np.identity(3)\n",
    "\n",
    "        q = qLab.reshape(3,1)\n",
    "        #A = -2*q*q.transpose() / np.linalg.norm(q)**2\n",
    "\n",
    "        axis = state.axis.reshape(3)\n",
    "        qdot = np.cross(axis,q.reshape(3)).reshape(3,1) \n",
    "        \n",
    "             \n",
    "        self.det_icov = peak.getShape().metric()\n",
    "        self.cov = cov\n",
    "        self.R = rot.transpose()\n",
    "        self.Jk = Jk\n",
    "        self.Jp = Jp\n",
    "        self.Jd = Jd\n",
    "        self.ki = ki\n",
    "        self.kf = kf\n",
    "        self.q = kf-ki\n",
    "        self.qdot = qdot\n",
    "        self.stepsize = state.stepSize\n",
    "        self.state = state\n",
    "        self.axis = state.axis\n",
    "        self.valid = True\n",
    "        self.center = peak.getShape().center()\n",
    "        \n",
    "        \n",
    "        A2 = self.det_icov[:2, :2]\n",
    "        b2 = self.det_icov[:2,2]\n",
    "        self.vdet = np.zeros((3,1), dtype=np.float)\n",
    "        self.vdet[:2,0] = -np.linalg.inv(A2).dot(b2)\n",
    "        self.vdet[2,0] = 1\n",
    "\n",
    "\n",
    "for peak in refined_peaks:    \n",
    "    ft = FitData(peak)\n",
    "    \n",
    "    if ft.valid:\n",
    "        fit_data.append(ft)\n",
    "\n",
    "print(len(fit_data))"
   ]
  },
  {
   "cell_type": "code",
   "execution_count": 15,
   "metadata": {},
   "outputs": [
    {
     "ename": "AttributeError",
     "evalue": "'numpy.float64' object has no attribute 'kf'",
     "output_type": "error",
     "traceback": [
      "\u001b[0;31m---------------------------------------------------------------------------\u001b[0m",
      "\u001b[0;31mAttributeError\u001b[0m                            Traceback (most recent call last)",
      "\u001b[0;32m<ipython-input-15-45d0bb87861e>\u001b[0m in \u001b[0;36m<module>\u001b[0;34m()\u001b[0m\n\u001b[1;32m      1\u001b[0m \u001b[0;31m#d, = random.sample(fit_data, 1)\u001b[0m\u001b[0;34m\u001b[0m\u001b[0;34m\u001b[0m\u001b[0m\n\u001b[1;32m      2\u001b[0m \u001b[0;34m\u001b[0m\u001b[0m\n\u001b[0;32m----> 3\u001b[0;31m \u001b[0mkf\u001b[0m \u001b[0;34m=\u001b[0m \u001b[0md\u001b[0m\u001b[0;34m.\u001b[0m\u001b[0mkf\u001b[0m\u001b[0;34m\u001b[0m\u001b[0m\n\u001b[0m\u001b[1;32m      4\u001b[0m \u001b[0mki\u001b[0m \u001b[0;34m=\u001b[0m \u001b[0md\u001b[0m\u001b[0;34m.\u001b[0m\u001b[0mki\u001b[0m\u001b[0;34m\u001b[0m\u001b[0m\n\u001b[1;32m      5\u001b[0m \u001b[0mR\u001b[0m \u001b[0;34m=\u001b[0m \u001b[0md\u001b[0m\u001b[0;34m.\u001b[0m\u001b[0mR\u001b[0m\u001b[0;34m\u001b[0m\u001b[0m\n",
      "\u001b[0;31mAttributeError\u001b[0m: 'numpy.float64' object has no attribute 'kf'"
     ]
    }
   ],
   "source": [
    "#d, = random.sample(fit_data, 1)\n",
    "\n",
    "kf = d.kf\n",
    "ki = d.ki\n",
    "R = d.R\n",
    "q = kf-ki\n",
    "Jd = d.Jd\n",
    "\n",
    "d.vdet\n",
    "\n",
    "\n",
    "print(\"vdet:\", d.vdet.transpose())\n",
    "\n",
    "w = d.qdot * d.state.stepSize\n",
    "\n",
    "v = d.R.transpose().dot(d.Jd.dot(d.vdet))\n",
    "\n",
    "#print(kf.dot(R.transpose().dot(Jd)))\n",
    "\n",
    "#print(kf)\n",
    "\n",
    "print(\"axis\", d.state.axis.transpose())\n",
    "print(\"qdot\", d.qdot.transpose())\n",
    "print(\"last col J:\", (R.transpose().dot(Jd))[:,2].transpose()/d.state.stepSize)\n",
    "print(\"kf J:\", kf.dot(R.transpose().dot(Jd)))\n",
    "\n",
    "print(\"ki:\", ki)\n",
    "print(\"kf:\", kf)\n",
    "print(\"q:\", q)\n",
    "\n",
    "print(\"v:\", v.transpose())\n",
    "print(\"w:\", w.transpose())\n",
    "\n",
    "print(\"|v|\", np.linalg.norm(v))\n",
    "print(\"|w|\", np.linalg.norm(w))\n",
    "\n",
    "Rw = R.dot(w)\n",
    "Dw = np.linalg.inv(Jd).dot(Rw)\n",
    "\n",
    "print(\"Dw\", Dw.transpose())\n",
    "\n",
    "if True:\n",
    "    for z in range(int(d.center[2,0]-4), int(d.center[2,0]+4)):\n",
    "        y = int(round(d.center[1,0]))\n",
    "        x = int(round(d.center[0,0]))\n",
    "        image = data.frame(z)[y-5:y+5, x-5:x+5]\n",
    "        plt.imshow(image)\n",
    "        plt.show()\n"
   ]
  },
  {
   "cell_type": "code",
   "execution_count": 27,
   "metadata": {
    "collapsed": true
   },
   "outputs": [],
   "source": [
    "from scipy.optimize import least_squares\n",
    "\n",
    "def new_predict(d, x):\n",
    "    deg = np.pi / 180    \n",
    "    \n",
    "    sigmaD = x[0] * deg\n",
    "    sigmaE = x[1]\n",
    "    sigmaM = x[2] * deg\n",
    "    sigmaA = x[3] \n",
    "    sigmaB = x[4]\n",
    "    #sigmaC = x[5]\n",
    "    \n",
    "    v = d.qdot.reshape(3,1)\n",
    "    \n",
    "    R = d.R\n",
    "    kf = d.kf.reshape(3,1)\n",
    "    ki = d.ki.reshape(3,1)  \n",
    "    q = kf-ki\n",
    "    n = q / np.linalg.norm(q)\n",
    "    \n",
    "    nnt = n.dot(n.transpose())\n",
    "    nkt = n.dot(ki.transpose())\n",
    "    nk = nkt.trace()\n",
    "    \n",
    "    I = np.identity(3)\n",
    "    NK = nk*I + nkt   \n",
    "    \n",
    "    Jp = d.Jp\n",
    "        \n",
    "    # mosaicity term\n",
    "    #SigN = sigmaM**2 * (I - n.dot(n.transpose()))\n",
    "    \n",
    "    # beam divergence term\n",
    "    SigD = sigmaD**2 * (np.linalg.norm(kf)**2 * I - kf.dot(kf.transpose()))\n",
    "    SigD += sigmaE**2 * kf.dot(kf.transpose())\n",
    "    \n",
    "    Sig = np.zeros((3,3), dtype=np.float)\n",
    "    \n",
    "    #Sig += 4 * NK.dot(SigN).dot(NK.transpose())\n",
    "    Sig += SigD\n",
    "    #Sig += sigmaA**2 * q.dot(q.transpose())\n",
    "    \n",
    "    #Sig += sigmaA * (kf.dot(ki.transpose()) + ki.dot(kf.transpose()))\n",
    "    #Sig += sigmaB * ki.dot(ki.transpose())\n",
    "    \n",
    "    Sig += sigmaM**2 * (np.linalg.norm(q)**2 * I - q.dot(q.transpose()))\n",
    "    #Sig = sigmaM * (np.linalg.norm(q)**2 )# I - q.dot(q.transpose()))\n",
    "    \n",
    "    Sig += sigmaA**2 * q.dot(q.transpose())\n",
    "    \n",
    "    Sig += sigmaB**2 * ki.dot(ki.transpose())    \n",
    "    \n",
    "    #Sig += sigmaC * v.dot(v.transpose())\n",
    "    \n",
    "    #Sig += sigmaC * np.identity(3)\n",
    "    \n",
    "    #Sig += sigmaA0**2 * q.dot(q.transpose()) / np.linalg.norm(q)**2\n",
    "    #Sig += sigmaM0**2 * (np.linalg.norm(q)**2 * I - q.dot(q.transpose())) / np.linalg.norm(q)**2\n",
    "            \n",
    "    pred = R.dot(Sig).dot(R.transpose())\n",
    "    \n",
    "    return pred\n",
    "\n",
    "\n",
    "#new_predict(random.sample(fit_data, 1)[0], result.x)"
   ]
  },
  {
   "cell_type": "code",
   "execution_count": 28,
   "metadata": {},
   "outputs": [
    {
     "name": "stdout",
     "output_type": "stream",
     "text": [
      "   Iteration     Total nfev        Cost      Cost reduction    Step norm     Optimality   \n",
      "       0              1         1.1938e-07                                    4.21e-06    \n",
      "       1              2         1.0109e-07      1.83e-08       2.24e-03       1.12e-05    \n",
      "       2              3         5.4529e-08      4.66e-08       4.47e-03       2.31e-06    \n",
      "       3              4         5.3947e-08      5.82e-10       8.94e-03       9.91e-08    \n",
      "       4              5         5.3341e-08      6.06e-10       1.79e-02       6.46e-08    \n",
      "       5              6         5.0454e-08      2.89e-09       3.58e-02       2.64e-07    \n",
      "       6              7         3.9409e-08      1.10e-08       7.16e-02       1.17e-06    \n",
      "       7              9         3.3106e-08      6.30e-09       3.58e-02       1.06e-06    \n",
      "       8             10         3.2392e-08      7.13e-10       7.16e-02       7.70e-06    \n",
      "       9             11         2.4325e-08      8.07e-09       1.79e-02       4.19e-06    \n",
      "      10             14         2.1933e-08      2.39e-09       1.12e-03       1.14e-06    \n",
      "      11             16         2.1789e-08      1.43e-10       5.59e-04       5.06e-07    \n",
      "      12             17         2.1727e-08      6.23e-11       5.59e-04       2.86e-07    \n",
      "      13             18         2.1699e-08      2.75e-11       1.40e-04       9.10e-08    \n",
      "      14             19         2.1699e-08      1.22e-13       1.40e-04       9.89e-08    \n",
      "      15             20         2.1696e-08      2.68e-12       3.49e-05       5.12e-08    \n",
      "The maximum number of function evaluations is exceeded.\n",
      "Function evaluations 20, initial cost 1.1938e-07, final cost 2.1696e-08, first-order optimality 5.12e-08.\n",
      " active_mask: array([0., 0., 0., 0., 0.])\n",
      "        cost: 2.1696470525910917e-08\n",
      "         fun: array([-1.28636911e-06,  3.75946400e-07,  5.95235571e-07, ...,\n",
      "       -2.67577016e-07, -1.57194988e-07,  5.37206311e-07])\n",
      "        grad: array([-1.14590913e-08,  8.71773364e-09,  1.46586771e-09,  2.35605830e-10,\n",
      "        5.12452013e-08])\n",
      "         jac: array([[-2.11615630e-05, -2.88915037e-05, -1.11807373e-06,\n",
      "        -8.48517201e-05, -3.96198629e-10],\n",
      "       [ 3.04079206e-06, -8.43519185e-05, -1.31900194e-07,\n",
      "         1.40060213e-04,  6.45400107e-08],\n",
      "       [-3.57679813e-06,  9.92207886e-05, -2.68226749e-07,\n",
      "         2.84820627e-04,  2.45755416e-10],\n",
      "       ...,\n",
      "       [-4.08217421e-06,  1.13239978e-04, -3.85441460e-07,\n",
      "         4.09286830e-04,  8.10216960e-09],\n",
      "       [-4.37699578e-06,  1.21418363e-04,  1.28975557e-07,\n",
      "        -1.36954651e-04, -4.30768168e-08],\n",
      "       [-2.04514990e-05, -4.85887602e-05, -1.26221175e-06,\n",
      "        -1.38978198e-04, -1.82751592e-10]])\n",
      "     message: 'The maximum number of function evaluations is exceeded.'\n",
      "        nfev: 20\n",
      "        njev: 16\n",
      "  optimality: 5.1245201321699826e-08\n",
      "      status: 0\n",
      "     success: False\n",
      "           x: array([2.58834819e-01, 2.18717841e-03, 1.87790311e-02, 6.07430939e-03,\n",
      "       3.73248246e-05])\n"
     ]
    }
   ],
   "source": [
    "def new_residual(x):\n",
    "    r = []\n",
    "    \n",
    "    for d in fit_data:\n",
    "        pred = new_predict(d, x)     \n",
    "        #r.extend((icov-pred).flatten())\n",
    "        r.extend((d.cov-pred).flatten())\n",
    "    \n",
    "    return r\n",
    "\n",
    "#x0 =   1.52786047e-03,  4.46037216e-05, 3.46386731e-04, -2.95699391e-05, 1.73883536e-05, 1e-5\n",
    "x0 = 1e-3, 1e-3, 1e-3, 1e-3, 1e-3\n",
    "#x0.append(1e-3)\n",
    "#x0.append(1e-3)\n",
    "\n",
    "#result = least_squares(new_residual, [sigmaD, sigmaM, sigma0])\n",
    "result = least_squares(new_residual, x0, max_nfev=20, verbose=2)\n",
    "\n",
    "print(result)\n"
   ]
  },
  {
   "cell_type": "code",
   "execution_count": 20,
   "metadata": {},
   "outputs": [
    {
     "data": {
      "image/png": "[encoded data removed]",
      "text/plain": [
       "<matplotlib.figure.Figure at 0x7f8a1cc4dc18>"
      ]
     },
     "metadata": {},
     "output_type": "display_data"
    },
    {
     "name": "stdout",
     "output_type": "stream",
     "text": [
      "0 1 -6.566479701063745e-12\n",
      "0 2 -0.5066375515123367\n",
      "0 3 0.5115414931257042\n",
      "1 2 -0.5115414928864869\n",
      "1 3 0.14492309165313702\n",
      "2 3 -1.9708199097677015e-09\n",
      "[4.97668731e-03 1.90049968e-03 3.77406594e-06 1.15664602e-10]\n",
      "1.0\n",
      "[-1.61795602e-02 -1.48020157e-01  1.27685395e-05 -9.88851988e-01]\n"
     ]
    }
   ],
   "source": [
    "J = result.jac\n",
    "JTJ = J.transpose().dot(J)\n",
    "plt.imshow(JTJ)\n",
    "plt.show()\n",
    "#####\n",
    "JTJ\n",
    "\n",
    "m, n = JTJ.shape\n",
    "\n",
    "for i in range(m):\n",
    "    for j in range(i+1, n):\n",
    "        print(i, j, JTJ[i,j] / np.sqrt(JTJ[i,i]) / np.sqrt(JTJ[j,j]))\n",
    "        \n",
    "w, u = np.linalg.eig(JTJ)\n",
    "print(w)\n",
    "u0 = u[:, np.argmax(w)]\n",
    "print(np.linalg.norm(u0))\n",
    "print(u[:, np.argmax(w)])\n"
   ]
  },
  {
   "cell_type": "code",
   "execution_count": 24,
   "metadata": {},
   "outputs": [
    {
     "name": "stdout",
     "output_type": "stream",
     "text": [
      "mean pearson: 0.8821653350371375\n"
     ]
    },
    {
     "data": {
      "image/png": "[encoded data removed]",
      "text/plain": [
       "<matplotlib.figure.Figure at 0x7f8a1caddeb8>"
      ]
     },
     "metadata": {},
     "output_type": "display_data"
    },
    {
     "data": {
      "image/png": "[encoded data removed]",
      "text/plain": [
       "<matplotlib.figure.Figure at 0x7f8a540d69e8>"
      ]
     },
     "metadata": {},
     "output_type": "display_data"
    },
    {
     "data": {
      "image/png": "[encoded data removed]",
      "text/plain": [
       "<matplotlib.figure.Figure at 0x7f8a1c9bef60>"
      ]
     },
     "metadata": {},
     "output_type": "display_data"
    },
    {
     "data": {
      "image/png": "[encoded data removed]",
      "text/plain": [
       "<matplotlib.figure.Figure at 0x7f8a1c96b780>"
      ]
     },
     "metadata": {},
     "output_type": "display_data"
    }
   ],
   "source": [
    "def pearson(a,b):\n",
    "    return a.transpose().dot(b).trace() / np.linalg.norm(a) / np.linalg.norm(b)\n",
    "\n",
    "qs = []\n",
    "xs = []\n",
    "ys = []\n",
    "zs = []\n",
    "pearsons = []\n",
    "\n",
    "for d in fit_data:\n",
    "    obs = d.cov\n",
    "    pred = new_predict(d, result.x)\n",
    "    qs.append(np.linalg.norm(d.kf-d.ki))\n",
    "    pearsons.append(pearson(obs,pred))\n",
    "    xs.append(d.center[0,0])\n",
    "    ys.append(d.center[1,0])\n",
    "    zs.append(d.center[2,0])\n",
    "    \n",
    "print(\"mean pearson:\", sum(pearsons)/len(pearsons))\n",
    "    \n",
    "plt.scatter(qs, pearsons)\n",
    "plt.show()\n",
    "\n",
    "plt.scatter(xs, pearsons)\n",
    "plt.show()\n",
    "\n",
    "plt.scatter(ys, pearsons)\n",
    "plt.show()\n",
    "\n",
    "plt.scatter(zs, pearsons)\n",
    "plt.show()\n"
   ]
  },
  {
   "cell_type": "code",
   "execution_count": 686,
   "metadata": {},
   "outputs": [
    {
     "name": "stdout",
     "output_type": "stream",
     "text": [
      "mean pearson: 0.9339069823424816\n"
     ]
    },
    {
     "data": {
      "image/png": "[encoded data removed]",
      "text/plain": [
       "<matplotlib.figure.Figure at 0x7fc6ac538ba8>"
      ]
     },
     "metadata": {},
     "output_type": "display_data"
    }
   ],
   "source": [
    "\n",
    "qs = []\n",
    "xs = []\n",
    "ys = []\n",
    "zs = []\n",
    "pearsons = []\n",
    "\n",
    "for d in fit_data:\n",
    "    obs = d.cov\n",
    "    pred = new_predict(d, result.x)\n",
    "    rho = pearson(obs,pred)\n",
    "    \n",
    "    if (rho > 0.96):\n",
    "        continue\n",
    "    \n",
    "    qs.append(np.linalg.norm(d.kf-d.ki))\n",
    "    pearsons.append(pearson(obs,pred))\n",
    "    xs.append(d.center[0,0])\n",
    "    ys.append(d.center[1,0])\n",
    "    zs.append(d.center[2,0])\n",
    "    \n",
    "print(\"mean pearson:\", sum(pearsons)/len(pearsons))\n",
    "    \n",
    "plt.scatter(xs, ys)\n",
    "plt.show()\n"
   ]
  },
  {
   "cell_type": "code",
   "execution_count": 320,
   "metadata": {},
   "outputs": [
    {
     "data": {
      "image/png": "[encoded data removed]",
      "text/plain": [
       "<matplotlib.figure.Figure at 0x7fc6ac7915f8>"
      ]
     },
     "metadata": {},
     "output_type": "display_data"
    },
    {
     "name": "stdout",
     "output_type": "stream",
     "text": [
      "[7.74748631e-06 4.87251861e-07 4.21257837e-06]\n"
     ]
    },
    {
     "data": {
      "image/png": "[encoded data removed]",
      "text/plain": [
       "<matplotlib.figure.Figure at 0x7fc6acad5a90>"
      ]
     },
     "metadata": {},
     "output_type": "display_data"
    },
    {
     "name": "stdout",
     "output_type": "stream",
     "text": [
      "[4.77882281e-06 7.86830361e-07 2.94951832e-06]\n"
     ]
    }
   ],
   "source": [
    "\n",
    "import random\n",
    "d= random.sample(fit_data, 1)[0]\n",
    "\n",
    "obs = d.cov\n",
    "plt.imshow(obs)\n",
    "plt.show()\n",
    "w, _ = np.linalg.eig(obs)\n",
    "print(w)\n",
    "\n",
    "pred = new_predict(d, result.x)\n",
    "plt.imshow(pred)\n",
    "plt.show()\n",
    "w, _ = np.linalg.eig(pred)\n",
    "print(w)"
   ]
  },
  {
   "cell_type": "code",
   "execution_count": 92,
   "metadata": {},
   "outputs": [
    {
     "ename": "NameError",
     "evalue": "name 'q' is not defined",
     "output_type": "error",
     "traceback": [
      "\u001b[0;31m---------------------------------------------------------------------------\u001b[0m",
      "\u001b[0;31mNameError\u001b[0m                                 Traceback (most recent call last)",
      "\u001b[0;32m<ipython-input-92-acfd6c7f49fa>\u001b[0m in \u001b[0;36m<module>\u001b[0;34m()\u001b[0m\n\u001b[1;32m     22\u001b[0m \u001b[0me2\u001b[0m \u001b[0;34m/=\u001b[0m \u001b[0mnp\u001b[0m\u001b[0;34m.\u001b[0m\u001b[0mlinalg\u001b[0m\u001b[0;34m.\u001b[0m\u001b[0mnorm\u001b[0m\u001b[0;34m(\u001b[0m\u001b[0me2\u001b[0m\u001b[0;34m)\u001b[0m\u001b[0;34m\u001b[0m\u001b[0m\n\u001b[1;32m     23\u001b[0m \u001b[0;34m\u001b[0m\u001b[0m\n\u001b[0;32m---> 24\u001b[0;31m \u001b[0me3\u001b[0m \u001b[0;34m=\u001b[0m \u001b[0md\u001b[0m\u001b[0;34m.\u001b[0m\u001b[0mqdot\u001b[0m \u001b[0;34m/\u001b[0m \u001b[0mnp\u001b[0m\u001b[0;34m.\u001b[0m\u001b[0mlinalg\u001b[0m\u001b[0;34m.\u001b[0m\u001b[0mnorm\u001b[0m\u001b[0;34m(\u001b[0m\u001b[0mq\u001b[0m\u001b[0;34m)\u001b[0m \u001b[0;31m#/ np.linalg.norm(d.qdot)#/ (np.linalg.norm(d.q) * L)\u001b[0m\u001b[0;34m\u001b[0m\u001b[0m\n\u001b[0m\u001b[1;32m     25\u001b[0m \u001b[0;31m#e3 = np.cross(d.q, e1) / np.linalg.norm(q)\u001b[0m\u001b[0;34m\u001b[0m\u001b[0;34m\u001b[0m\u001b[0m\n\u001b[1;32m     26\u001b[0m \u001b[0;34m\u001b[0m\u001b[0m\n",
      "\u001b[0;31mNameError\u001b[0m: name 'q' is not defined"
     ]
    }
   ],
   "source": [
    "d = random.sample(fit_data, 1)[0]\n",
    "\n",
    "J = d.Jd\n",
    "JI = np.linalg.inv(J)\n",
    "R = d.R.transpose()\n",
    "\n",
    "A = JI.transpose().dot(d.det_icov).dot(JI)\n",
    "A = R.dot(A).dot(R.transpose())\n",
    "\n",
    "#e1 = np.cross(d.kf, d.ki)\n",
    "#e2 = np.cross(d.kf, e1)\n",
    "\n",
    "#e1 /= np.linalg.norm(e1) / np.linalg.norm(d.kf)\n",
    "#e2 /= np.linalg.norm(e2) / np.linalg.norm(d.kf)\n",
    "L = abs(d.qdot.dot(d.kf).trace() / np.linalg.norm(d.qdot) / np.linalg.norm(d.kf))\n",
    "#e3 = d.qdot * np.linalg.norm(d.q) / np.linalg.norm(d.qdot)\n",
    "#e3 = np.cross(d.q, e1)\n",
    "\n",
    "e1 = np.cross(d.kf.reshape(3), d.qdot.reshape(3))\n",
    "e2 = np.cross(d.kf, e1)\n",
    "e1 /= np.linalg.norm(e1)\n",
    "e2 /= np.linalg.norm(e2)\n",
    "\n",
    "e3 = d.qdot / np.linalg.norm(q) #/ np.linalg.norm(d.qdot)#/ (np.linalg.norm(d.q) * L)\n",
    "#e3 = np.cross(d.q, e1) / np.linalg.norm(q)\n",
    "\n",
    "B = np.array([e1.reshape(3), e2.reshape(3), e3.reshape(3)]).transpose()\n",
    "#BI = np.linalg.inv(B)\n",
    "BT = B.transpose()\n",
    "\n",
    "A = BT.dot(A).dot(B)\n",
    "\n",
    "w, u = np.linalg.eig(np.linalg.inv(A))\n",
    "#print(w)\n",
    "print(np.sqrt(w) / np.pi * 180)\n",
    "print(u)\n",
    "\n",
    "plt.imshow(A)\n",
    "plt.show()"
   ]
  },
  {
   "cell_type": "code",
   "execution_count": 925,
   "metadata": {},
   "outputs": [
    {
     "data": {
      "text/plain": [
       "0.9679746530503546"
      ]
     },
     "execution_count": 925,
     "metadata": {},
     "output_type": "execute_result"
    }
   ],
   "source": [
    "L"
   ]
  },
  {
   "cell_type": "code",
   "execution_count": 126,
   "metadata": {},
   "outputs": [
    {
     "name": "stdout",
     "output_type": "stream",
     "text": [
      "   Iteration     Total nfev        Cost      Cost reduction    Step norm     Optimality   \n",
      "       0              1         3.2322e-08                                    1.66e-08    \n",
      "       1              6         3.2321e-08      3.25e-13       2.92e-05       4.66e-09    \n",
      "       2              8         3.2321e-08      7.40e-14       1.46e-05       2.10e-09    \n",
      "       3             10         3.2321e-08      1.86e-14       7.30e-06       1.08e-09    \n",
      "The maximum number of function evaluations is exceeded.\n",
      "Function evaluations 10, initial cost 3.2322e-08, final cost 3.2321e-08, first-order optimality 1.08e-09.\n",
      " active_mask: array([0., 0., 0., 0., 0., 0., 0., 0., 0., 0., 0., 0., 0., 0., 0., 0., 0.,\n",
      "       0., 0., 0., 0., 0., 0., 0., 0., 0., 0.])\n",
      "        cost: 3.232115275759742e-08\n",
      "         fun: array([-2.41522405e-06,  2.13403853e-07,  3.44629804e-08, ...,\n",
      "       -1.07698496e-06,  6.60033184e-07, -2.62704066e-07])\n",
      "        grad: array([-1.84256001e-10, -2.84449899e-11, -1.43366076e-10, -9.12330494e-10,\n",
      "       -2.90087163e-10, -1.98480071e-11,  4.34954352e-10, -3.79329505e-10,\n",
      "       -1.08163074e-09, -1.37794924e-10, -4.85047317e-10,  2.31273065e-10,\n",
      "       -2.97573440e-11, -1.67169396e-10, -6.34972799e-11, -2.50679169e-10,\n",
      "       -5.41839271e-10,  4.60936771e-10, -7.24605194e-11,  4.56880669e-13,\n",
      "       -4.78172603e-11, -8.52342795e-11, -2.07838175e-11, -5.61275179e-11,\n",
      "       -2.29279171e-11,  5.09645238e-11, -6.71065620e-12])\n",
      "         jac: array([[-2.10854137e-06,  2.38216569e-06,  2.25997724e-06, ...,\n",
      "         7.25965974e-04, -3.50109956e-04,  3.09118407e-04],\n",
      "       [ 8.86732830e-05, -1.02797701e-04, -9.22613278e-05, ...,\n",
      "         2.85372445e-04, -1.39768268e-04,  1.23296436e-04],\n",
      "       [ 9.04553603e-05, -1.03572370e-04, -9.55141678e-05, ...,\n",
      "         2.99499586e-04,  1.62434132e-04,  2.18243285e-04],\n",
      "       ...,\n",
      "       [ 8.21393648e-05, -1.86500561e-04,  1.03266071e-05, ...,\n",
      "         2.40714142e-04,  1.30954284e-04,  1.75523487e-04],\n",
      "       [ 6.92430416e-05,  1.94443390e-04, -3.61293724e-04, ...,\n",
      "         3.47599970e-04,  1.90896047e-04,  2.54001929e-04],\n",
      "       [-5.74240267e-05,  2.07258162e-04, -8.54749063e-05, ...,\n",
      "         1.88856359e-06,  1.03695214e-06,  1.37992657e-06]])\n",
      "     message: 'The maximum number of function evaluations is exceeded.'\n",
      "        nfev: 10\n",
      "        njev: 4\n",
      "  optimality: 1.0816307448587054e-09\n",
      "      status: 0\n",
      "     success: False\n",
      "           x: array([ 1.11204531e-04, -1.75306591e-03,  1.59870073e-03,  1.80615050e-04,\n",
      "        2.96090773e-04, -7.35962329e-04, -1.04161852e-03,  6.59211836e-04,\n",
      "        1.67715894e-03,  3.53822746e-03, -1.66246076e-03, -8.13459121e-04,\n",
      "       -2.21075310e-03, -6.09693407e-04, -3.50464864e-03, -2.69140468e-03,\n",
      "        5.40670747e-04,  1.98764490e-03,  7.37510954e-05, -1.88335573e-04,\n",
      "       -1.49629398e-05, -3.71785820e-04,  2.41865439e-05, -2.02949991e-04,\n",
      "        7.09334015e-06,  1.50888815e-04,  4.74162894e-05])\n"
     ]
    }
   ],
   "source": [
    "from scipy.optimize import least_squares\n",
    "\n",
    "class ShapeModel:\n",
    "    def __init__(self):\n",
    "        # crystal mosaicity\n",
    "        self.mos = np.zeros((3,3), dtype=np.float)\n",
    "        # beam divergence\n",
    "        self.div = np.zeros((3,3), dtype=np.float)\n",
    "        # crystal shape\n",
    "        self.shape = np.zeros((3,3), dtype=np.float)\n",
    "        # cross term between scattering point and divergence\n",
    "        self.div_cross = np.zeros((3,3), dtype=np.float)\n",
    "        # detector bleeding\n",
    "        self.bleed = np.zeros((3,3), dtype=np.float)\n",
    "        # cross term mosaicity and scattering point\n",
    "        self.mos_cross = np.zeros((3,3), dtype=np.float)\n",
    "        \n",
    "    def encode(self):\n",
    "        return np.concatenate(\n",
    "            [self.mos.flatten(), \n",
    "            self.div.flatten(), \n",
    "            self.shape.flatten()])#,             \n",
    "            #self.div_cross.flatten(),           \n",
    "            #self.bleed.flatten(),\n",
    "            #self.mos_cross.flatten()])\n",
    "        #])\n",
    "    \n",
    "    def decode(self, x):\n",
    "        sym = lambda x: 0.5*(x+x.transpose())\n",
    "        self.mos = x[:9].reshape(3,3)\n",
    "        self.div = x[9:18].reshape(3,3)\n",
    "        self.shape = x[18:27].reshape(3,3)\n",
    "        #self.div_cross = x[27:36].reshape(3,3)\n",
    "        #self.bleed = sym(x[36:45].reshape(3,3))\n",
    "        #self.mos_cross = sym(x[45:].reshape(3,3))\n",
    "            \n",
    "        #self.mos = x[0]\n",
    "        #self.div = x[1]\n",
    "        #self.shape = sym(x[2:11].reshape(3,3))\n",
    "        #self.cov = x[11:20].reshape(3,3)\n",
    "        \n",
    "    def scatter_cov(self):\n",
    "        big_cov = np.zeros((9,9), dtype=np.float)\n",
    "        big_cov[:3, :3] = self.mos\n",
    "        big_cov[3:6, 3:6] = self.div\n",
    "        big_cov[6:9, 6:9] = self.shape\n",
    "        \n",
    "        big_cov[:3, 3:6] = self.mos_cross\n",
    "        big_cov[3:6, :3] = self.mos_cross.transpose()\n",
    "        \n",
    "        big_cov[3:6, 6:9] = self.div_cross\n",
    "        big_cov[6:9, 3:6] = self.div_cross.transpose()\n",
    "        \n",
    "        return big_cov\n",
    "            \n",
    "        \n",
    "    def predict(self, data):\n",
    "        q = data.kf-data.ki      \n",
    "        kf = data.kf  \n",
    "       \n",
    "        R = data.R\n",
    "        Pq = np.identity(3) - q.dot(q.transpose()) / np.linalg.norm(q)**2\n",
    "        Pk = np.identity(3) - kf.dot(kf.transpose()) / np.linalg.norm(kf)**2\n",
    "                \n",
    "        M = self.mos.dot(self.mos.transpose())\n",
    "        M = R.transpose().dot(M).dot(R)\n",
    "        \n",
    "        cov = np.linalg.norm(q)**2 * Pq.dot(M).dot(Pq)\n",
    "        \n",
    "        B = self.div.dot(self.div.transpose())\n",
    "        cov += np.linalg.norm(kf)**2 * Pk.dot(B).dot(Pk)\n",
    "        \n",
    "        S = self.shape.dot(self.shape.transpose())\n",
    "        cov += Pk.dot(S).dot(Pk)\n",
    "                \n",
    "        return R.dot(cov).dot(R.transpose())\n",
    "    \n",
    "    def residual(x, fit_data):\n",
    "        m = ShapeModel()\n",
    "        m.decode(x)\n",
    "        \n",
    "        res = []\n",
    "\n",
    "        for dt in fit_data:\n",
    "            pred_cov = m.predict(dt)\n",
    "            obs_cov = dt.cov\n",
    "            #diff = np.linalg.inv(S)-np.linalg.inv(Sfit)\n",
    "            diff = obs_cov-pred_cov\n",
    "            res.extend(diff.flatten())\n",
    "            #res.append(KL_divergence(S, Sfit))\n",
    "\n",
    "        return res\n",
    "    \n",
    "    def summarize(self):\n",
    "        print(\"Mosaicity\")\n",
    "        plt.imshow(self.mos)\n",
    "        plt.show()\n",
    "        w, _ = np.linalg.eig(self.mos)\n",
    "        print(w)\n",
    "\n",
    "def KL_divergence(S0, S1):\n",
    "    k, _ = S0.shape    \n",
    "    A = np.linalg.inv(S1).dot(S0)    \n",
    "    return 0.5 * (A.trace() - k - np.log(np.linalg.det(A)))\n",
    "\n",
    "\n",
    "#model = ShapeModel()\n",
    "#model.mos = 0.01 * np.identity(3)\n",
    "#model.div = 0.3 * np.identity(3)\n",
    "#model.div[1,1] = 0.001\n",
    "#model.shape = 0.01 * np.identity(3)\n",
    "\n",
    "result = least_squares(lambda x: ShapeModel.residual(x, fit_data), model.encode(), gtol=3e-16, verbose=2,max_nfev=10)\n",
    "print(result)\n",
    "\n",
    "model.decode(result.x)\n",
    "\n",
    "#model.summarize()\n",
    "#print(model.bleed)"
   ]
  },
  {
   "cell_type": "code",
   "execution_count": 127,
   "metadata": {},
   "outputs": [
    {
     "data": {
      "image/png": "[encoded data removed]",
      "text/plain": [
       "<matplotlib.figure.Figure at 0x7fc6ac984ac8>"
      ]
     },
     "metadata": {},
     "output_type": "display_data"
    },
    {
     "data": {
      "image/png": "[encoded data removed]",
      "text/plain": [
       "<matplotlib.figure.Figure at 0x7fc6ac9b42e8>"
      ]
     },
     "metadata": {},
     "output_type": "display_data"
    },
    {
     "data": {
      "image/png": "[encoded data removed]",
      "text/plain": [
       "<matplotlib.figure.Figure at 0x7fc6ac984ba8>"
      ]
     },
     "metadata": {},
     "output_type": "display_data"
    }
   ],
   "source": [
    "print_eig = lambda x: print(np.linalg.eig(x)[0])\n",
    "\n",
    "M = model.mos\n",
    "M = M.dot(M.transpose())\n",
    "\n",
    "D = model.div\n",
    "D = D.dot(D.transpose())\n",
    "\n",
    "S = model.shape\n",
    "S = S.dot(S.transpose())\n",
    "\n",
    "plt.imshow(M)\n",
    "plt.show()\n",
    "\n",
    "plt.imshow(D)\n",
    "plt.show()\n",
    "\n",
    "plt.imshow(S)\n",
    "plt.show()"
   ]
  },
  {
   "cell_type": "code",
   "execution_count": 120,
   "metadata": {},
   "outputs": [
    {
     "data": {
      "text/plain": [
       "array([[ 0.55556853,  0.73189715,  0.3945506 ],\n",
       "       [ 0.62988681, -0.06072013, -0.77430981],\n",
       "       [ 0.54275798, -0.67870437,  0.49474655]])"
      ]
     },
     "execution_count": 120,
     "metadata": {},
     "output_type": "execute_result"
    }
   ],
   "source": [
    "np.linalg.eig(D)[1]"
   ]
  },
  {
   "cell_type": "code",
   "execution_count": 184,
   "metadata": {},
   "outputs": [
    {
     "ename": "NameError",
     "evalue": "name 'S' is not defined",
     "output_type": "error",
     "traceback": [
      "\u001b[0;31m---------------------------------------------------------------------------\u001b[0m",
      "\u001b[0;31mNameError\u001b[0m                                 Traceback (most recent call last)",
      "\u001b[0;32m<ipython-input-184-da7940117375>\u001b[0m in \u001b[0;36m<module>\u001b[0;34m()\u001b[0m\n\u001b[1;32m      2\u001b[0m \u001b[0mdt\u001b[0m \u001b[0;34m=\u001b[0m \u001b[0mrandom\u001b[0m\u001b[0;34m.\u001b[0m\u001b[0msample\u001b[0m\u001b[0;34m(\u001b[0m\u001b[0mfit_data\u001b[0m\u001b[0;34m,\u001b[0m \u001b[0;36m1\u001b[0m\u001b[0;34m)\u001b[0m\u001b[0;34m[\u001b[0m\u001b[0;36m0\u001b[0m\u001b[0;34m]\u001b[0m\u001b[0;34m\u001b[0m\u001b[0m\n\u001b[1;32m      3\u001b[0m \u001b[0;34m\u001b[0m\u001b[0m\n\u001b[0;32m----> 4\u001b[0;31m \u001b[0mplt\u001b[0m\u001b[0;34m.\u001b[0m\u001b[0mimshow\u001b[0m\u001b[0;34m(\u001b[0m\u001b[0mS\u001b[0m\u001b[0;34m)\u001b[0m\u001b[0;34m\u001b[0m\u001b[0m\n\u001b[0m\u001b[1;32m      5\u001b[0m \u001b[0mplt\u001b[0m\u001b[0;34m.\u001b[0m\u001b[0mshow\u001b[0m\u001b[0;34m(\u001b[0m\u001b[0;34m)\u001b[0m\u001b[0;34m\u001b[0m\u001b[0m\n\u001b[1;32m      6\u001b[0m \u001b[0;34m\u001b[0m\u001b[0m\n",
      "\u001b[0;31mNameError\u001b[0m: name 'S' is not defined"
     ]
    }
   ],
   "source": [
    "import random\n",
    "dt = random.sample(fit_data, 1)[0]\n",
    "\n",
    "plt.imshow(S)\n",
    "plt.show()\n",
    "\n",
    "Sfit = model.predict(dt)\n",
    "\n",
    "plt.imshow(Sfit)\n",
    "plt.show()\n",
    "\n",
    "w_obs, u_obs = np.linalg.eig(S)\n",
    "w_fit, u_fit = np.linalg.eig(Sfit)\n",
    "\n",
    "print(w_obs)\n",
    "print(w_fit)\n",
    "\n",
    "\n",
    "print(S.transpose().dot(Sfit).trace() / np.linalg.norm(S) / np.linalg.norm(Sfit))"
   ]
  },
  {
   "cell_type": "code",
   "execution_count": 125,
   "metadata": {},
   "outputs": [
    {
     "data": {
      "image/png": "[encoded data removed]",
      "text/plain": [
       "<matplotlib.figure.Figure at 0x7fc6acd994e0>"
      ]
     },
     "metadata": {},
     "output_type": "display_data"
    },
    {
     "data": {
      "image/png": "[encoded data removed]",
      "text/plain": [
       "<matplotlib.figure.Figure at 0x7fc6a7f6c5f8>"
      ]
     },
     "metadata": {},
     "output_type": "display_data"
    },
    {
     "data": {
      "image/png": "[encoded data removed]",
      "text/plain": [
       "<matplotlib.figure.Figure at 0x7fc6acaa4a90>"
      ]
     },
     "metadata": {},
     "output_type": "display_data"
    },
    {
     "ename": "NameError",
     "evalue": "name 'good_fit_data' is not defined",
     "output_type": "error",
     "traceback": [
      "\u001b[0;31m---------------------------------------------------------------------------\u001b[0m",
      "\u001b[0;31mNameError\u001b[0m                                 Traceback (most recent call last)",
      "\u001b[0;32m<ipython-input-125-13d1bf4f9f97>\u001b[0m in \u001b[0;36m<module>\u001b[0;34m()\u001b[0m\n\u001b[1;32m     41\u001b[0m \u001b[0mpstd\u001b[0m \u001b[0;34m=\u001b[0m \u001b[0mpearson\u001b[0m\u001b[0;34m.\u001b[0m\u001b[0mstd\u001b[0m\u001b[0;34m(\u001b[0m\u001b[0;34m)\u001b[0m\u001b[0;34m\u001b[0m\u001b[0m\n\u001b[1;32m     42\u001b[0m \u001b[0;34m\u001b[0m\u001b[0m\n\u001b[0;32m---> 43\u001b[0;31m \u001b[0mprint\u001b[0m\u001b[0;34m(\u001b[0m\u001b[0;34m\"number of good peaks:\"\u001b[0m\u001b[0;34m,\u001b[0m \u001b[0mlen\u001b[0m\u001b[0;34m(\u001b[0m\u001b[0mgood_fit_data\u001b[0m\u001b[0;34m)\u001b[0m\u001b[0;34m)\u001b[0m\u001b[0;34m\u001b[0m\u001b[0m\n\u001b[0m\u001b[1;32m     44\u001b[0m \u001b[0mprint\u001b[0m\u001b[0;34m(\u001b[0m\u001b[0;34m\"mean pearson:\"\u001b[0m\u001b[0;34m,\u001b[0m \u001b[0mpmean\u001b[0m\u001b[0;34m)\u001b[0m\u001b[0;34m\u001b[0m\u001b[0m\n\u001b[1;32m     45\u001b[0m \u001b[0mprint\u001b[0m\u001b[0;34m(\u001b[0m\u001b[0;34m\"mean error:\"\u001b[0m\u001b[0;34m,\u001b[0m \u001b[0msum\u001b[0m\u001b[0;34m(\u001b[0m\u001b[0merrors\u001b[0m\u001b[0;34m)\u001b[0m\u001b[0;34m/\u001b[0m\u001b[0mlen\u001b[0m\u001b[0;34m(\u001b[0m\u001b[0merrors\u001b[0m\u001b[0;34m)\u001b[0m\u001b[0;34m)\u001b[0m\u001b[0;34m\u001b[0m\u001b[0m\n",
      "\u001b[0;31mNameError\u001b[0m: name 'good_fit_data' is not defined"
     ]
    }
   ],
   "source": [
    "errors = []\n",
    "KL_errors = []\n",
    "pearson = []\n",
    "qs = []\n",
    "\n",
    "#good_fit_data = fit_data\n",
    "\n",
    "new_fit_data = []\n",
    "\n",
    "for dt in fit_data:\n",
    "    pred = model.predict(dt)\n",
    "    \n",
    "    #err = np.linalg.norm(S-Sfit)\n",
    "    err = np.linalg.norm(pred-dt.cov) /np.linalg.norm(dt.cov)\n",
    "    \n",
    "    if (err > 1e10):\n",
    "        continue\n",
    "    \n",
    "    errors.append(err)\n",
    "    KL_errors.append(KL_divergence(dt.cov, pred))\n",
    "    pearson.append(dt.cov.transpose().dot(pred).trace() / np.linalg.norm(pred) / np.linalg.norm(dt.cov))\n",
    "    qs.append(np.linalg.norm(dt.q))\n",
    "    \n",
    "    if (pearson[-1] > 0.95):\n",
    "        new_fit_data.append(dt)\n",
    "    \n",
    "    \n",
    "qs = np.array(qs)\n",
    "\n",
    "plt.scatter(qs, errors)\n",
    "plt.show()\n",
    "\n",
    "plt.scatter(qs, pearson)\n",
    "plt.show()\n",
    "\n",
    "plt.scatter(qs, KL_errors)\n",
    "plt.show()\n",
    "\n",
    "pearson = np.array(pearson)\n",
    "pmean = pearson.mean()\n",
    "pstd = pearson.std()\n",
    "\n",
    "print(\"number of good peaks:\", len(good_fit_data))\n",
    "print(\"mean pearson:\", pmean)\n",
    "print(\"mean error:\", sum(errors)/len(errors))\n",
    "\n",
    "result = least_squares(lambda x: ShapeModel.residual(x, new_fit_data), model.encode(), gtol=3e-16)\n",
    "#print(result)\n",
    "\n",
    "model.decode(result.x)\n",
    "\n",
    "\n",
    "print_eig(model.mos)\n",
    "print_eig(model.div)\n",
    "print_eig(model.shape)\n",
    "print_eig(model.bleed)\n",
    "print_eig(model.scatter_cov())\n"
   ]
  },
  {
   "cell_type": "code",
   "execution_count": null,
   "metadata": {
    "collapsed": true
   },
   "outputs": [],
   "source": []
  },
  {
   "cell_type": "code",
   "execution_count": 307,
   "metadata": {},
   "outputs": [
    {
     "data": {
      "image/png": "[encoded data removed]",
      "text/plain": [
       "<matplotlib.figure.Figure at 0x7f9a06236208>"
      ]
     },
     "metadata": {},
     "output_type": "display_data"
    }
   ],
   "source": [
    "def ellipse_center(cov, z):\n",
    "    A = np.linalg.inv(cov)\n",
    "    b = A[:2,2]\n",
    "    c = A[2,2]\n",
    "    A2 = A[:2,:2]\n",
    "    \n",
    "    r2 = 1 - c*z**2 + b.transpose().dot(A2.dot(b))\n",
    "    center = -np.linalg.inv(A2).dot(b)*z\n",
    "    \n",
    "    return center\n",
    "    \n",
    "    \n",
    "dt = random.sample(fit_data, 1)[0]\n",
    "pred_cov = model.predict(dt)\n",
    "obs_cov = dt.cov\n",
    "\n",
    "# to detector space\n",
    "JI = np.linalg.inv(dt.Jd)\n",
    "pred_cov = JI.dot(pred_cov).dot(JI.transpose())\n",
    "obs_cov = JI.dot(obs_cov).dot(JI.transpose())\n",
    "\n",
    "zs = np.linspace(-3, 3)\n",
    "\n",
    "obs_xs = []\n",
    "obs_ys = []\n",
    "\n",
    "pred_xs = []\n",
    "pred_ys = []\n",
    "\n",
    "dx = []\n",
    "dy = []\n",
    "\n",
    "dc = []\n",
    "\n",
    "for z in zs:\n",
    "    c_obs = ellipse_center(obs_cov, z)\n",
    "    c_pred = ellipse_center(pred_cov, z)\n",
    "    \n",
    "    pred_xs.append(c_pred[0])\n",
    "    pred_ys.append(c_pred[1])\n",
    "    \n",
    "    obs_xs.append(c_obs[0])\n",
    "    obs_ys.append(c_obs[1])\n",
    "    \n",
    "    dx.append(c_obs[0]-c_pred[0])\n",
    "    dy.append(c_obs[1]-c_pred[1])\n",
    "        \n",
    "    dc.append(np.linalg.norm(np.array(c_obs)-np.array(c_pred)))\n",
    "    \n",
    "    \n",
    "#plt.scatter(zs, pred_xs)\n",
    "#plt.show()\n",
    "\n",
    "#plt.scatter(obs_ys, pred_ys)\n",
    "#plt.show()\n",
    "\n",
    "plt.scatter(zs, dx)\n",
    "plt.scatter(zs, dy)\n",
    "plt.show()\n"
   ]
  },
  {
   "cell_type": "code",
   "execution_count": null,
   "metadata": {
    "collapsed": true
   },
   "outputs": [],
   "source": [
    "Mos, Beam, Shape, Det = decode(result.x)\n",
    "\n",
    "w, u = np.linalg.eig(Beam)\n",
    "print(np.sqrt(w) / 2.67 / np.pi * 180)\n",
    "print(u)"
   ]
  },
  {
   "cell_type": "code",
   "execution_count": null,
   "metadata": {
    "collapsed": true
   },
   "outputs": [],
   "source": [
    "errors = []\n",
    "mean = np.zeros((3,3), dtype=np.float)\n",
    "\n",
    "good_fit_data = fit_data\n",
    "\n",
    "for S, R, A in fit_data:\n",
    "    mean += S\n",
    "    \n",
    "mean /= len(fit_data)\n",
    "\n",
    "for S, R, A in fit_data:\n",
    "    errors.append(np.linalg.norm(S-mean) / np.linalg.norm(S))\n",
    "    \n",
    "plt.plot(range(len(errors)), errors)\n",
    "plt.show()\n",
    "\n",
    "errors = np.array(errors)\n",
    "print(errors.mean())\n",
    "print(errors.std())\n",
    "\n",
    "new_fit_data = []\n",
    "\n",
    "for i in range(len(fit_data)):\n",
    "    if errors[i] > errors.mean() + 3*errors.std():\n",
    "        print(i, (errors[i]-errors.mean()) / errors.std())\n",
    "    else:\n",
    "        good_fit_data.append(fit_data[i])\n",
    "               \n"
   ]
  },
  {
   "cell_type": "code",
   "execution_count": null,
   "metadata": {
    "collapsed": true
   },
   "outputs": [],
   "source": [
    "def mean_DKL(M, D, data):\n",
    "    DKLs = [ DKL(S, fit_model(M, D, R, A)) for S, R, A in data]\n",
    "    return np.array(DKLs).mean()\n",
    "\n",
    "def DKL(S1, S2):\n",
    "    d = 0    \n",
    "    d = np.log(np.linalg.det(S2) / np.linalg.det(S1))\n",
    "    d += np.linalg.inv(S2).dot(S1).trace()\n",
    "    d -= S1.shape[0]\n",
    "    d *= 0.5    \n",
    "    return d    "
   ]
  },
  {
   "cell_type": "code",
   "execution_count": 250,
   "metadata": {},
   "outputs": [
    {
     "data": {
      "image/png": "[encoded data removed]",
      "text/plain": [
       "<matplotlib.figure.Figure at 0x7f9a061e4128>"
      ]
     },
     "metadata": {},
     "output_type": "display_data"
    }
   ],
   "source": [
    "J = result.jac\n",
    "JTJ = J.transpose().dot(J)\n",
    "JTJ = 0.5 * (JTJ + JTJ.transpose())\n",
    "w, u = np.linalg.eigh(JTJ)\n",
    "JTJI = np.linalg.inv(JTJ)\n",
    "\n",
    "COV = JTJI.dot(JTJI.transpose())\n",
    "\n",
    "plt.imshow(COV)\n",
    "plt.show()"
   ]
  },
  {
   "cell_type": "code",
   "execution_count": 252,
   "metadata": {},
   "outputs": [
    {
     "data": {
      "text/plain": [
       "array([[ 6.50590556e+17,  1.31832199e+30, -2.53946959e+29, ...,\n",
       "         3.89233886e+33,  4.74959913e+32, -3.21384682e+27],\n",
       "       [ 1.31832199e+30,  1.08956550e+43, -1.91617890e+42, ...,\n",
       "         4.04154536e+46,  5.95441324e+46, -2.27234766e+40],\n",
       "       [-2.53946959e+29, -1.91617890e+42,  3.39464964e+41, ...,\n",
       "        -7.52503397e+45, -9.70418725e+45,  3.90700538e+39],\n",
       "       ...,\n",
       "       [ 3.89233886e+33,  4.04154536e+46, -7.52503397e+45, ...,\n",
       "         3.19351322e+50,  6.59180247e+49, -5.28978437e+43],\n",
       "       [ 4.74959913e+32,  5.95441324e+46, -9.70418725e+45, ...,\n",
       "         6.59180247e+49,  5.89964069e+50, -1.60717376e+44],\n",
       "       [-3.21384682e+27, -2.27234766e+40,  3.90700538e+39, ...,\n",
       "        -5.28978437e+43, -1.60717376e+44,  1.17940413e+38]])"
      ]
     },
     "execution_count": 252,
     "metadata": {},
     "output_type": "execute_result"
    }
   ],
   "source": [
    "COV"
   ]
  },
  {
   "cell_type": "code",
   "execution_count": null,
   "metadata": {
    "collapsed": true
   },
   "outputs": [],
   "source": []
  },
  {
   "cell_type": "code",
   "execution_count": null,
   "metadata": {
    "collapsed": true
   },
   "outputs": [],
   "source": []
  },
  {
   "cell_type": "code",
   "execution_count": null,
   "metadata": {
    "collapsed": true
   },
   "outputs": [],
   "source": []
  },
  {
   "cell_type": "code",
   "execution_count": null,
   "metadata": {
    "collapsed": true
   },
   "outputs": [],
   "source": []
  },
  {
   "cell_type": "code",
   "execution_count": null,
   "metadata": {
    "collapsed": true
   },
   "outputs": [],
   "source": []
  },
  {
   "cell_type": "code",
   "execution_count": null,
   "metadata": {
    "collapsed": true
   },
   "outputs": [],
   "source": []
  },
  {
   "cell_type": "code",
   "execution_count": null,
   "metadata": {
    "collapsed": true
   },
   "outputs": [],
   "source": []
  },
  {
   "cell_type": "code",
   "execution_count": null,
   "metadata": {
    "collapsed": true
   },
   "outputs": [],
   "source": []
  },
  {
   "cell_type": "code",
   "execution_count": null,
   "metadata": {
    "collapsed": true
   },
   "outputs": [],
   "source": []
  },
  {
   "cell_type": "code",
   "execution_count": null,
   "metadata": {
    "collapsed": true
   },
   "outputs": [],
   "source": []
  },
  {
   "cell_type": "code",
   "execution_count": null,
   "metadata": {
    "collapsed": true
   },
   "outputs": [],
   "source": []
  }
 ],
 "metadata": {
  "kernelspec": {
   "display_name": "Python 3",
   "language": "python",
   "name": "python3"
  },
  "language_info": {
   "codemirror_mode": {
    "name": "ipython",
    "version": 3
   },
   "file_extension": ".py",
   "mimetype": "text/x-python",
   "name": "python",
   "nbconvert_exporter": "python",
   "pygments_lexer": "ipython3",
   "version": "3.6.4"
  }
 },
 "nbformat": 4,
 "nbformat_minor": 2
}
