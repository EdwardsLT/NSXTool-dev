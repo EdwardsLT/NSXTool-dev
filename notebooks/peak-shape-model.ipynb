{
 "cells": [
  {
   "cell_type": "code",
   "execution_count": 39,
   "metadata": {
    "collapsed": true
   },
   "outputs": [],
   "source": [
    "import pynsx as nsx\n",
    "import math\n",
    "import numpy as np\n",
    "from matplotlib import pyplot as plt\n",
    "from os import path"
   ]
  },
  {
   "cell_type": "code",
   "execution_count": 40,
   "metadata": {
    "collapsed": true
   },
   "outputs": [],
   "source": [
    "expt = nsx.Experiment('test', 'BioDiff2500')\n",
    "diff = expt.getDiffractometer()\n",
    "filename = path.expanduser(\"~/data/biodiff/p11202.hdf\")\n",
    "reader = nsx.HDF5DataReader(filename, diff)\n",
    "data = nsx.DataSet(reader, diff)\n",
    "expt.addData(data)"
   ]
  },
  {
   "cell_type": "code",
   "execution_count": 41,
   "metadata": {},
   "outputs": [
    {
     "name": "stdout",
     "output_type": "stream",
     "text": [
      "9200\n"
     ]
    }
   ],
   "source": [
    "kernel = nsx.AnnularKernel(data.nRows(), data.nCols())\n",
    "convolver = nsx.Convolver()\n",
    "convolver.setKernel(kernel.matrix())\n",
    "\n",
    "finder = nsx.PeakFinder()\n",
    "finder.setConvolver(convolver)\n",
    "finder.setMinComponents(30)\n",
    "finder.setMaxComponents(10000)\n",
    "finder.setIntegrationScale(3.0)\n",
    "finder.setBackgroundScale(5.0)\n",
    "finder.setSearchScale(1.0)\n",
    "finder.setThresholdType(1)\n",
    "finder.setThresholdValue(80.0)\n",
    "finder.setKernel(kernel)\n",
    "\n",
    "peaks = finder.find([data])\n",
    "print(len(peaks))"
   ]
  },
  {
   "cell_type": "code",
   "execution_count": 42,
   "metadata": {
    "collapsed": true
   },
   "outputs": [],
   "source": [
    "for peak in peaks:\n",
    "    peak.setSelected(True)"
   ]
  },
  {
   "cell_type": "code",
   "execution_count": 43,
   "metadata": {},
   "outputs": [
    {
     "name": "stdout",
     "output_type": "stream",
     "text": [
      "7573\n"
     ]
    }
   ],
   "source": [
    "# clean up peaks\n",
    "good_peaks = []\n",
    "\n",
    "for peak in peaks:\n",
    "    I = peak.correctedIntensity().value()\n",
    "    \n",
    "    # keep only selected peaks\n",
    "    if not peak.isSelected():\n",
    "        continue\n",
    "    \n",
    "    # keep only strong peaks for autoindex\n",
    "    if I < 1000.0:\n",
    "        continue\n",
    "        \n",
    "    d = 1.0 / np.linalg.norm(peak.q().rowVector())\n",
    "    \n",
    "    # keep peaks only in specified d range\n",
    "    if d > 40.0 or d < 1.8:\n",
    "        continue\n",
    "        \n",
    "    good_peaks.append(peak)\n",
    "    \n",
    "print(len(good_peaks))"
   ]
  },
  {
   "cell_type": "code",
   "execution_count": 44,
   "metadata": {},
   "outputs": [
    {
     "name": "stdout",
     "output_type": "stream",
     "text": [
      "auto indexing 7573 peaks\n",
      "indexed 3267 of 7573\n",
      "found unit cell with parameters: \n",
      "a:  54.2820600447397\n",
      "b:  58.44178005798611\n",
      "c:  67.25733832385178\n",
      "alpha:  1.5707963267948968\n",
      "beta:  1.5707963267948966\n",
      "gamma:  1.5707963267948966\n"
     ]
    }
   ],
   "source": [
    "indexer = nsx.AutoIndexer(nsx.ProgressHandler())\n",
    "\n",
    "for peak in good_peaks:\n",
    "    indexer.addPeak(peak)\n",
    "\n",
    "print(\"auto indexing\", len(good_peaks), \"peaks\")\n",
    "        \n",
    "params = nsx.IndexerParameters()\n",
    "handler = nsx.ProgressHandler()\n",
    "indexer.autoIndex(params)\n",
    "\n",
    "soln = indexer.getSolutions()[0]\n",
    "assert(soln[1] > 92.0)\n",
    "\n",
    "uc = nsx.UnitCell(soln[0])\n",
    "sample = diff.getSample()\n",
    "sample.addUnitCell(uc)\n",
    "\n",
    "indexed_peaks = []\n",
    "\n",
    "for peak in good_peaks:\n",
    "    hkl = nsx.MillerIndex(peak.q(), uc)\n",
    "    if np.linalg.norm(hkl.error()) < 0.2:\n",
    "        peak.addUnitCell(uc, True)\n",
    "        indexed_peaks.append(peak)\n",
    "    \n",
    "ch = uc.character()\n",
    "print(\"indexed\", len(indexed_peaks), \"of\", len(good_peaks))\n",
    "print(\"found unit cell with parameters: \")\n",
    "print(\"a: \", ch.a)\n",
    "print(\"b: \", ch.b)\n",
    "print(\"c: \", ch.c)\n",
    "print(\"alpha: \", ch.alpha)\n",
    "print(\"beta: \", ch.beta)\n",
    "print(\"gamma: \", ch.gamma)"
   ]
  },
  {
   "cell_type": "code",
   "execution_count": 45,
   "metadata": {},
   "outputs": [
    {
     "name": "stdout",
     "output_type": "stream",
     "text": [
      "refinement successful: True\n"
     ]
    }
   ],
   "source": [
    "nbatches = int(data.nFrames() / 5)\n",
    "#nbatches = 1\n",
    "states = data.instrumentStates()\n",
    "\n",
    "refiner = nsx.Refiner(uc, indexed_peaks, nbatches)\n",
    "\n",
    "refiner.refineSamplePosition(states)\n",
    "refiner.refineKi(states)\n",
    "refiner.refineSampleOrientation(states)\n",
    "#refiner.refineU()\n",
    "refiner.refineB()\n",
    "\n",
    "success = refiner.refine(200)\n",
    "\n",
    "print(\"refinement successful:\", success)"
   ]
  },
  {
   "cell_type": "code",
   "execution_count": 46,
   "metadata": {
    "collapsed": true
   },
   "outputs": [],
   "source": [
    "def find_batch(peak, batches):\n",
    "    z = peak.getShape().center()[2,0]\n",
    "    \n",
    "    for b in batches:\n",
    "        if b.contains(z):\n",
    "            return b\n",
    "        \n",
    "    return None\n",
    "\n",
    "def reindex(peak_list, batches):          \n",
    "    new_peaks = []\n",
    "    \n",
    "    for peak in peak_list:\n",
    "        \n",
    "        batch = find_batch(peak, batches)\n",
    "        \n",
    "        if batch is None:\n",
    "            continue\n",
    "        \n",
    "        hkl = np.array([[0.,0.,0.]])\n",
    "        uc = batch.cell()\n",
    "        \n",
    "        if nsx.MillerIndex(peak.q(), uc).indexed(0.2):\n",
    "            peak.addUnitCell(uc, True)\n",
    "            new_peaks.append(peak)\n",
    "            \n",
    "    return new_peaks\n",
    "\n",
    "refined_peaks = reindex(indexed_peaks, refiner.batches())"
   ]
  },
  {
   "cell_type": "code",
   "execution_count": 271,
   "metadata": {},
   "outputs": [
    {
     "name": "stdout",
     "output_type": "stream",
     "text": [
      "3267\n"
     ]
    }
   ],
   "source": [
    "fit_data = []\n",
    "standard_fit_data = []\n",
    "\n",
    "#begin_frame = 50\n",
    "#end_frame = begin_frame+5\n",
    "\n",
    "begin_frame = 0\n",
    "end_frame = begin_frame+400\n",
    "\n",
    "class FitData:\n",
    "    def __init__(self, peak):\n",
    "        self.valid = False\n",
    "        cov = peak.qShape().inverseMetric()\n",
    "        cov = 0.5*(cov + cov.transpose())\n",
    "        \n",
    "\n",
    "        if np.isnan(np.linalg.norm(cov)):\n",
    "            return\n",
    "\n",
    "        C = np.linalg.cond(cov)    \n",
    "        if np.isnan(C) or C > 1e4:\n",
    "            return\n",
    "\n",
    "        w, u = np.linalg.eig(cov)\n",
    "\n",
    "        if min(w) < 0:\n",
    "            return\n",
    "\n",
    "        detector = peak.data().diffractometer().getDetector()\n",
    "        center = peak.getShape().center()\n",
    "\n",
    "        frame = center[2,0]\n",
    "\n",
    "        if (frame < begin_frame):\n",
    "            return\n",
    "        \n",
    "        if (frame > end_frame):\n",
    "            return\n",
    "\n",
    "        state = peak.data().interpolatedState(frame)\n",
    "\n",
    "        Jd = state.jacobianQ(nsx.DetectorEvent(center))\n",
    "\n",
    "        px = center[0,0]\n",
    "        py = center[1,0]\n",
    "\n",
    "        p = detector.pixelPosition(px, py).vector()\n",
    "        p0 = state.samplePosition\n",
    "\n",
    "        r = np.linalg.norm(p-p0)\n",
    "        dp = p-p0\n",
    "\n",
    "        Jp = -1/r*np.identity(3) + 1/r**3 * dp.dot(dp.transpose())\n",
    "\n",
    "        rot = state.sampleOrientationMatrix()\n",
    "        ki = state.ki().rowVector()\n",
    "        qLab = peak.qPredicted().rowVector().dot(rot.transpose())\n",
    "        kf = qLab + ki\n",
    "        kf /= np.linalg.norm(kf)\n",
    "        kf *= np.linalg.norm(ki)\n",
    "\n",
    "        Jk = kf.transpose().dot(ki) / np.linalg.norm(ki)**2 - np.identity(3)\n",
    "\n",
    "        q = qLab.reshape(3,1)\n",
    "        #A = -2*q*q.transpose() / np.linalg.norm(q)**2\n",
    "\n",
    "        axis = state.axis.reshape(3)\n",
    "        qdot = np.cross(axis,q.reshape(3)).reshape(3,1) \n",
    "        \n",
    "        self.peak = peak  \n",
    "        self.det_icov = peak.getShape().metric()\n",
    "        self.cov = cov\n",
    "        self.R = rot.transpose()\n",
    "        self.Jk = Jk\n",
    "        self.Jp = Jp\n",
    "        self.Jd = Jd\n",
    "        self.ki = ki\n",
    "        self.kf = kf\n",
    "        self.q = kf-ki\n",
    "        self.qdot = qdot\n",
    "        self.stepsize = state.stepSize\n",
    "        self.state = state\n",
    "        self.axis = state.axis\n",
    "        self.valid = True\n",
    "        self.center = peak.getShape().center()\n",
    "        \n",
    "        \n",
    "        A2 = self.det_icov[:2, :2]\n",
    "        b2 = self.det_icov[:2,2]\n",
    "        self.vdet = np.zeros((3,1), dtype=np.float)\n",
    "        self.vdet[:2,0] = -np.linalg.inv(A2).dot(b2)\n",
    "        self.vdet[2,0] = 1\n",
    "\n",
    "\n",
    "for peak in refined_peaks:    \n",
    "    ft = FitData(peak)\n",
    "    \n",
    "    if ft.valid:\n",
    "        fit_data.append(ft)\n",
    "\n",
    "print(len(fit_data))"
   ]
  },
  {
   "cell_type": "code",
   "execution_count": 260,
   "metadata": {},
   "outputs": [
    {
     "name": "stdout",
     "output_type": "stream",
     "text": [
      "[-0.84611665 -1.37803581  2.11833164]\n",
      "[2.32810458 0.44387483 1.21865878]\n",
      "[-2.48781395  2.79122118  0.82207238]\n"
     ]
    },
    {
     "data": {
      "image/png": "[encoded data removed]",
      "text/plain": [
       "<matplotlib.figure.Figure at 0x7f8a1cbe3400>"
      ]
     },
     "metadata": {},
     "output_type": "display_data"
    },
    {
     "name": "stdout",
     "output_type": "stream",
     "text": [
      "[[ 3.57673792e-05 -1.42150432e-05 -1.56228587e-05]\n",
      " [-1.42150432e-05  2.33356368e-05  4.13368001e-06]\n",
      " [-1.56228587e-05  4.13368001e-06  2.15472536e-05]]\n",
      "[0.41619765 0.17550069 0.24645129]\n"
     ]
    }
   ],
   "source": [
    "import random\n",
    "d, = random.sample(fit_data, 1)\n",
    "\n",
    "q = d.peak.q().rowVector().reshape(3)\n",
    "ki = d.R.dot(d.ki.reshape(3))\n",
    "kf = q + ki\n",
    "#print(q)\n",
    "#print(kf-ki)\n",
    "\n",
    "e1 = np.cross(kf, ki)\n",
    "e2 = np.cross(kf, e1)\n",
    "e3 = kf+ki\n",
    "#e3 = d.R.dot(d.qdot.reshape(3))\n",
    "\n",
    "e1 /= np.linalg.norm(e1) * np.linalg.norm(kf)\n",
    "e2 /= np.linalg.norm(e2) * np.linalg.norm(kf)\n",
    "e3 /= np.linalg.norm(e3) * np.linalg.norm(q)\n",
    "\n",
    "J = d.state.jacobianQ(nsx.DetectorEvent(d.peak.getShape().center()))\n",
    "J[:,2] -= d.R.dot(d.qdot.reshape(3))*d.stepsize\n",
    "JI = np.linalg.inv(J)\n",
    "\n",
    "A = peak.getShape().metric()\n",
    "A = JI.transpose().dot(A).dot(JI)\n",
    "\n",
    "L = np.array([e1, e2, e3])\n",
    "print(e1)\n",
    "print(e2)\n",
    "print(e3)\n",
    "\n",
    "LI = np.linalg.inv(L)\n",
    "\n",
    "A = LI.transpose().dot(A).dot(LI)\n",
    "\n",
    "AI = np.linalg.inv(A)\n",
    "\n",
    "plt.imshow(AI)\n",
    "plt.show()\n",
    "\n",
    "print(AI)\n",
    "print(np.sqrt(np.linalg.eig(AI)[0])*180.0 / np.pi)"
   ]
  },
  {
   "cell_type": "code",
   "execution_count": 236,
   "metadata": {},
   "outputs": [
    {
     "name": "stdout",
     "output_type": "stream",
     "text": [
      "vdet: [[-0.08986226 -2.39432377  1.        ]]\n",
      "axis [[-1.24240670e-16 -3.88252092e-17 -1.00000000e+00]]\n",
      "qdot [[-6.39429627e-02  8.24138055e-02  4.74458326e-18]]\n",
      "last col J: [ 0.06495414 -0.08263404  0.00031213]\n",
      "kf J: [[ 3.43601926e-08 -1.98539098e-08 -2.16935369e-04]]\n",
      "ki: [[-0.00103386  0.37523288  0.00040597]]\n",
      "kf: [[-0.08342175  0.31119324  0.19235521]]\n",
      "q: [[-0.08238789 -0.06403964  0.19194924]]\n",
      "v: [[ 0.00016231  0.00022811 -0.00142621]]\n",
      "w: [[-4.46406093e-04  5.75356902e-04  3.31234398e-20]]\n",
      "|v| 0.0014534268784622477\n",
      "|w| 0.0007282265888031232\n",
      "Dw [[ 0.00687213  0.00364645 -0.99701119]]\n"
     ]
    },
    {
     "data": {
      "image/png": "[encoded data removed]",
      "text/plain": [
       "<matplotlib.figure.Figure at 0x7f8a1cc1e080>"
      ]
     },
     "metadata": {},
     "output_type": "display_data"
    },
    {
     "data": {
      "image/png": "[encoded data removed]",
      "text/plain": [
       "<matplotlib.figure.Figure at 0x7f8a1cabf3c8>"
      ]
     },
     "metadata": {},
     "output_type": "display_data"
    },
    {
     "data": {
      "image/png": "[encoded data removed]",
      "text/plain": [
       "<matplotlib.figure.Figure at 0x7f8a1c916b00>"
      ]
     },
     "metadata": {},
     "output_type": "display_data"
    },
    {
     "data": {
      "image/png": "[encoded data removed]",
      "text/plain": [
       "<matplotlib.figure.Figure at 0x7f8a243b2438>"
      ]
     },
     "metadata": {},
     "output_type": "display_data"
    },
    {
     "data": {
      "image/png": "[encoded data removed]",
      "text/plain": [
       "<matplotlib.figure.Figure at 0x7f8a1ca66da0>"
      ]
     },
     "metadata": {},
     "output_type": "display_data"
    },
    {
     "data": {
      "image/png": "[encoded data removed]",
      "text/plain": [
       "<matplotlib.figure.Figure at 0x7f8a1f520518>"
      ]
     },
     "metadata": {},
     "output_type": "display_data"
    },
    {
     "data": {
      "image/png": "[encoded data removed]",
      "text/plain": [
       "<matplotlib.figure.Figure at 0x7f8a1cb81400>"
      ]
     },
     "metadata": {},
     "output_type": "display_data"
    },
    {
     "data": {
      "image/png": "[encoded data removed]",
      "text/plain": [
       "<matplotlib.figure.Figure at 0x7f8a1caf0cc0>"
      ]
     },
     "metadata": {},
     "output_type": "display_data"
    }
   ],
   "source": [
    "import random\n",
    "d, = random.sample(fit_data, 1)\n",
    "\n",
    "kf = d.kf\n",
    "ki = d.ki\n",
    "R = d.R\n",
    "q = kf-ki\n",
    "Jd = d.Jd\n",
    "\n",
    "d.vdet\n",
    "\n",
    "\n",
    "print(\"vdet:\", d.vdet.transpose())\n",
    "\n",
    "w = d.qdot * d.state.stepSize\n",
    "\n",
    "v = d.R.transpose().dot(d.Jd.dot(d.vdet))\n",
    "\n",
    "#print(kf.dot(R.transpose().dot(Jd)))\n",
    "\n",
    "#print(kf)\n",
    "\n",
    "print(\"axis\", d.state.axis.transpose())\n",
    "print(\"qdot\", d.qdot.transpose())\n",
    "print(\"last col J:\", (R.transpose().dot(Jd))[:,2].transpose()/d.state.stepSize)\n",
    "print(\"kf J:\", kf.dot(R.transpose().dot(Jd)))\n",
    "\n",
    "print(\"ki:\", ki)\n",
    "print(\"kf:\", kf)\n",
    "print(\"q:\", q)\n",
    "\n",
    "print(\"v:\", v.transpose())\n",
    "print(\"w:\", w.transpose())\n",
    "\n",
    "print(\"|v|\", np.linalg.norm(v))\n",
    "print(\"|w|\", np.linalg.norm(w))\n",
    "\n",
    "Rw = R.dot(w)\n",
    "Dw = np.linalg.inv(Jd).dot(Rw)\n",
    "\n",
    "print(\"Dw\", Dw.transpose())\n",
    "\n",
    "if True:\n",
    "    for z in range(int(d.center[2,0]-4), int(d.center[2,0]+4)):\n",
    "        y = int(round(d.center[1,0]))\n",
    "        x = int(round(d.center[0,0]))\n",
    "        image = data.frame(z)[y-5:y+5, x-5:x+5]\n",
    "        plt.imshow(image)\n",
    "        plt.show()\n"
   ]
  },
  {
   "cell_type": "code",
   "execution_count": 349,
   "metadata": {
    "collapsed": true
   },
   "outputs": [],
   "source": [
    "from scipy.optimize import least_squares\n",
    "\n",
    "def new_predict(d, x):\n",
    "    deg = np.pi / 180    \n",
    "    \n",
    "    sigmaD = x[0:9].reshape(3,3)\n",
    "    sigmaM = x[9:18].reshape(3,3)\n",
    "    sigmaS = x[18:27].reshape(3,3)\n",
    "    \n",
    "    v = d.qdot.reshape(3,1)\n",
    "    \n",
    "    R = d.R\n",
    "    kf = d.kf.reshape(3,1)\n",
    "    ki = d.ki.reshape(3,1)  \n",
    "    q = kf-ki\n",
    "    n = q / np.linalg.norm(q)\n",
    "    \n",
    "    nnt = n.dot(n.transpose())\n",
    "    nkt = n.dot(ki.transpose())\n",
    "    nk = nkt.trace()\n",
    "    \n",
    "    I = np.identity(3)\n",
    "    NK = nk*I + nkt   \n",
    "    \n",
    "    Jp = d.Jp\n",
    "    \n",
    "    Sig = np.zeros((3,3), dtype=np.float)\n",
    "    \n",
    "    # mosaicity term\n",
    "    Pq = np.identity(3) - q.dot(q.transpose()) / np.linalg.norm(q)**2\n",
    "    Sig += np.linalg.norm(q)**2 * Pq.dot(sigmaM.dot(sigmaM.transpose())).dot(Pq.transpose())\n",
    "        \n",
    "    # beam divergence term\n",
    "    A = np.identity(3) - kf.dot(ki.transpose()) / np.linalg.norm(ki)**2\n",
    "    Sig += A.dot(sigmaD.dot(sigmaD.transpose())).dot(A.transpose())\n",
    "    \n",
    "    # crystal shape in beam\n",
    "    Jp = d.Jp\n",
    "    Sig += Jp.dot(sigmaS.dot(sigmaS.transpose())).dot(Jp.transpose())\n",
    "            \n",
    "    pred = R.dot(Sig).dot(R.transpose())\n",
    "    \n",
    "    return pred\n",
    "\n",
    "\n",
    "#new_predict(random.sample(fit_data, 1)[0], result.x)"
   ]
  },
  {
   "cell_type": "code",
   "execution_count": 350,
   "metadata": {},
   "outputs": [
    {
     "name": "stdout",
     "output_type": "stream",
     "text": [
      "   Iteration     Total nfev        Cost      Cost reduction    Step norm     Optimality   \n",
      "       0              1         3.4410e-06                                    3.61e-03    \n",
      "       1              2         5.3221e-07      2.91e-06       2.91e-03       1.26e-03    \n",
      "       2              3         3.7665e-08      4.95e-07       5.82e-03       1.60e-04    \n",
      "       3              5         5.8320e-09      3.18e-08       2.91e-03       1.75e-05    \n",
      "       4              7         4.6928e-09      1.14e-09       1.46e-03       1.64e-06    \n",
      "       5              9         4.6581e-09      3.46e-11       7.28e-04       2.44e-07    \n",
      "       6             11         4.6560e-09      2.14e-12       1.82e-04       2.14e-08    \n",
      "       7             12         4.6558e-09      1.80e-13       3.64e-04       8.40e-08    \n",
      "       8             13         4.6554e-09      3.97e-13       9.10e-05       3.26e-09    \n",
      "`gtol` termination condition is satisfied.\n",
      "Function evaluations 13, initial cost 3.4410e-06, final cost 4.6554e-09, first-order optimality 3.26e-09.\n",
      " active_mask: array([0., 0., 0., 0., 0., 0., 0., 0., 0., 0., 0., 0., 0., 0., 0., 0., 0.,\n",
      "       0., 0., 0., 0., 0., 0., 0., 0., 0., 0.])\n",
      "        cost: 4.655414850306748e-09\n",
      "         fun: array([-3.63333481e-07,  1.05265462e-07,  6.80908143e-07, ...,\n",
      "       -7.19978962e-07, -1.41399432e-08, -8.40509446e-07])\n",
      "        grad: array([ 5.22012727e-10,  2.06856207e-10, -4.75630061e-10,  1.33932664e-11,\n",
      "        6.21970256e-11, -1.72301979e-11, -1.35880138e-10,  3.58822030e-10,\n",
      "        2.56738313e-10,  8.34794563e-11, -5.00448573e-11,  6.42713123e-11,\n",
      "       -1.81950178e-09,  1.03942614e-09,  5.45977577e-10,  1.34232335e-09,\n",
      "        3.31477223e-10, -2.62218747e-10, -4.44828232e-10,  4.83187906e-10,\n",
      "        5.10419082e-10,  1.11727004e-09, -1.27078758e-09,  3.47058647e-10,\n",
      "       -1.15051307e-09,  3.25572650e-09, -6.48708563e-10])\n",
      "         jac: array([[-1.65891165e-03, -1.22621697e-03,  2.09067766e-03, ...,\n",
      "         2.30462737e-04, -1.70849044e-04, -3.65138555e-04],\n",
      "       [-1.00366178e-04,  1.51724186e-04, -2.65613837e-04, ...,\n",
      "         6.70590074e-04, -7.81958449e-04, -1.33987875e-03],\n",
      "       [ 3.00175744e-05, -5.88962211e-04, -1.24746877e-03, ...,\n",
      "         9.37087857e-04, -1.07515692e-03, -1.85525622e-03],\n",
      "       ...,\n",
      "       [ 1.86917163e-04, -8.49913875e-04, -3.57112105e-04, ...,\n",
      "         8.34170924e-03, -1.02082230e-03, -1.39673580e-03],\n",
      "       [ 1.31659295e-04, -5.99745607e-04, -2.54240070e-04, ...,\n",
      "        -2.23623061e-03, -5.00340977e-04,  4.36942390e-04],\n",
      "       [ 1.34724195e-06, -6.06386357e-06, -2.59729137e-06, ...,\n",
      "        -2.85444427e-03, -1.59075916e-02,  1.79084744e-03]])\n",
      "     message: '`gtol` termination condition is satisfied.'\n",
      "        nfev: 13\n",
      "        njev: 9\n",
      "  optimality: 3.255726500582428e-09\n",
      "      status: 1\n",
      "     success: True\n",
      "           x: array([ 8.73234953e-04,  5.17270552e-04, -8.71606900e-04,  3.66942964e-04,\n",
      "       -8.00231648e-04,  1.45130174e-03, -2.51178243e-04,  1.07432516e-03,\n",
      "        3.72346909e-04,  2.00526083e-06, -8.35363710e-07,  7.42249405e-07,\n",
      "       -4.99315429e-05,  2.78877565e-05,  1.48784040e-05,  4.61438296e-05,\n",
      "        1.05082353e-05, -9.09305716e-06, -7.77501866e-05,  6.45311291e-05,\n",
      "        1.91062437e-04,  3.89854765e-04,  1.09553187e-05,  8.68749604e-05,\n",
      "        4.67208252e-05,  3.16731117e-04, -4.62631417e-05])\n"
     ]
    }
   ],
   "source": [
    "def new_residual(x):\n",
    "    r = []\n",
    "    \n",
    "    for d in fit_data:\n",
    "        pred = new_predict(d, x)     \n",
    "        #r.extend((icov-pred).flatten())\n",
    "        r.extend((d.cov-pred).flatten())\n",
    "    \n",
    "    return r\n",
    "\n",
    "#x0 =   1.52786047e-03,  4.46037216e-05, 3.46386731e-04, -2.95699391e-05, 1.73883536e-05, 1e-5\n",
    "x0 = 1e-3 * np.random.rand(27)\n",
    "#x0.append(1e-3)\n",
    "#x0.append(1e-3)\n",
    "\n",
    "#result = least_squares(new_residual, [sigmaD, sigmaM, sigma0])\n",
    "result = least_squares(new_residual, x0, max_nfev=20, verbose=2)\n",
    "\n",
    "print(result)\n"
   ]
  },
  {
   "cell_type": "code",
   "execution_count": 354,
   "metadata": {},
   "outputs": [
    {
     "data": {
      "image/png": "[encoded data removed]",
      "text/plain": [
       "<matplotlib.figure.Figure at 0x7f8a1ca09e80>"
      ]
     },
     "metadata": {},
     "output_type": "display_data"
    },
    {
     "name": "stdout",
     "output_type": "stream",
     "text": [
      "0 1 0.20650638563303556\n",
      "0 2 -0.6425433173513028\n",
      "0 3 0.14515750176763498\n",
      "0 4 -0.12735863058317437\n",
      "0 5 0.3055663433743581\n",
      "0 6 -0.24444061352005123\n",
      "0 7 -0.08872521183211418\n",
      "0 8 0.21089430725603764\n",
      "0 9 -0.06398360967650885\n",
      "0 10 -0.031940226366846694\n",
      "0 11 0.08872130047983469\n",
      "0 12 -0.16283132922832852\n",
      "0 13 0.042111526835063154\n",
      "0 14 0.13970865356612738\n",
      "0 15 0.22780741279281977\n",
      "0 16 -0.04246861848190107\n",
      "0 17 -0.2273056326496229\n",
      "0 18 -0.26899864328333556\n",
      "0 19 -0.016990371724968936\n",
      "0 20 0.7783368938329052\n",
      "0 21 0.25870013693852306\n",
      "0 22 0.1413134839014182\n",
      "0 23 0.05693141665768058\n",
      "0 24 0.19161252861193673\n",
      "0 25 0.008179914014890266\n",
      "0 26 -0.16827565737449976\n",
      "1 2 -0.6639357425954437\n",
      "1 3 -0.551119417979462\n",
      "1 4 -0.4336320959375669\n",
      "1 5 0.6008036617611362\n",
      "1 6 0.6396538786417545\n",
      "1 7 0.23935210740945637\n",
      "1 8 -0.5699972302623947\n",
      "1 9 0.19255126892875668\n",
      "1 10 0.13860847160534734\n",
      "1 11 -0.11373741901472394\n",
      "1 12 -0.029696020605300022\n",
      "1 13 0.03130350133298272\n",
      "1 14 0.03470657047584201\n",
      "1 15 0.04690129159176699\n",
      "1 16 0.017970222387418223\n",
      "1 17 -0.016120529425020794\n",
      "1 18 -0.4849779202251049\n",
      "1 19 0.6540176210878218\n",
      "1 20 0.18742659687339192\n",
      "1 21 0.30769809964819556\n",
      "1 22 -0.21018521789527864\n",
      "1 23 -0.37920272036035557\n",
      "1 24 -0.25537325753334583\n",
      "1 25 0.07853245723055374\n",
      "1 26 0.5029775415745628\n",
      "2 3 0.5556627013695506\n",
      "2 4 0.39099935115681095\n",
      "2 5 -0.7630159722408649\n",
      "2 6 -0.0378209940566518\n",
      "2 7 0.004113333989640042\n",
      "2 8 -0.012410668997319447\n",
      "2 9 0.060497425190481215\n",
      "2 10 0.0340487256110239\n",
      "2 11 -0.07021133545871869\n",
      "2 12 0.10763545525279694\n",
      "2 13 -0.025710505427900248\n",
      "2 14 -0.09151969643433798\n",
      "2 15 -0.15012479941001652\n",
      "2 16 0.030385932433495765\n",
      "2 17 0.15253682498730117\n",
      "2 18 0.7129970667753934\n",
      "2 19 -0.09563042146010862\n",
      "2 20 -0.5191684092492578\n",
      "2 21 -0.45600292456961905\n",
      "2 22 0.0087438783571741\n",
      "2 23 0.4611229606827635\n",
      "2 24 -0.11378511083183514\n",
      "2 25 -0.010528131425321842\n",
      "2 26 0.030552154367816275\n",
      "3 4 -0.1272790555459675\n",
      "3 5 -0.3332421656385458\n",
      "3 6 -0.4586809795620744\n",
      "3 7 0.2451607483630511\n",
      "3 8 -0.09887049677060739\n",
      "3 9 -0.0005540270452594783\n",
      "3 10 -0.0002609175488853115\n",
      "3 11 0.0006096499026222157\n",
      "3 12 -0.0007961076100489276\n",
      "3 13 0.00021875720593566146\n",
      "3 14 0.0006868918214389439\n",
      "3 15 0.0012179457022764015\n",
      "3 16 -0.00013343480253503884\n",
      "3 17 -0.0012097014708448788\n",
      "3 18 0.5521835970733927\n",
      "3 19 -0.10722921179756088\n",
      "3 20 0.047617189232175915\n",
      "3 21 -0.012845049540795546\n",
      "3 22 -0.18603181141938405\n",
      "3 23 0.747326204087132\n",
      "3 24 -0.24281578110313148\n",
      "3 25 0.11433712629554822\n",
      "3 26 -0.2303359592484039\n",
      "4 5 -0.7249761468596608\n",
      "4 6 0.18936095096975464\n",
      "4 7 -0.6580381172887243\n",
      "4 8 0.6467485206001763\n",
      "4 9 0.0006219090609139271\n",
      "4 10 0.00048134973225938773\n",
      "4 11 -0.00036466312827391985\n",
      "4 12 -0.00012577279524395583\n",
      "4 13 7.589292872763448e-05\n",
      "4 14 0.00012948000813104175\n",
      "4 15 -0.00011807488507086028\n",
      "4 16 -0.0001331109102657478\n",
      "4 17 0.00014451475022760733\n",
      "4 18 0.30643197556553164\n",
      "4 19 -0.21338119563351154\n",
      "4 20 -0.02867914054753023\n",
      "4 21 -0.5890365150112147\n",
      "4 22 0.6681869898970372\n",
      "4 23 -0.08045084577783355\n",
      "4 24 0.5772111873939645\n",
      "4 25 -0.25184756185623364\n",
      "4 26 0.09659929527586693\n",
      "5 6 0.0198364524343119\n",
      "5 7 0.20588386232768086\n",
      "5 8 -0.24612511689066424\n",
      "5 9 0.00040396525181988645\n",
      "5 10 0.00021017680632480298\n",
      "5 11 -0.00041104087380926165\n",
      "5 12 0.0004740314140031063\n",
      "5 13 -0.0001257182055350548\n",
      "5 14 -0.0004067357678543335\n",
      "5 15 -0.0007570340403406728\n",
      "5 16 6.83242030844181e-05\n",
      "5 17 0.0007549720733383058\n",
      "5 18 -0.6271536078330641\n",
      "5 19 0.13480819508928915\n",
      "5 20 0.23293911976140985\n",
      "5 21 0.7707528121565923\n",
      "5 22 -0.21333186212640834\n",
      "5 23 -0.2715016792636971\n",
      "5 24 -0.10886302931311378\n",
      "5 25 0.05250426967303682\n",
      "5 26 -0.00465222734641416\n",
      "6 7 -0.26427163164890666\n",
      "6 8 -0.4571904449359853\n",
      "6 9 0.2740895876101366\n",
      "6 10 0.19545826839196298\n",
      "6 11 -0.19336542552581448\n",
      "6 12 0.03210273957798897\n",
      "6 13 -0.01301269461844938\n",
      "6 14 -0.02580351045261231\n",
      "6 15 -0.2184956750939154\n",
      "6 16 -0.08726470637114879\n",
      "6 17 0.20758865856101225\n",
      "6 18 -0.052311990569989475\n",
      "6 19 0.643068739042258\n",
      "6 20 -0.15983933890139695\n",
      "6 21 -0.09395033577314738\n",
      "6 22 0.09986453065293914\n",
      "6 23 -0.2626161889568826\n",
      "6 24 -0.13672927013172392\n",
      "6 25 -0.31094056829036687\n",
      "6 26 0.8057631844950133\n",
      "7 8 -0.45764703648131255\n",
      "7 9 0.07519594579804592\n",
      "7 10 0.040516013021154554\n",
      "7 11 -0.04244252659361713\n",
      "7 12 0.04883829888255372\n",
      "7 13 0.06638217664393739\n",
      "7 14 -0.01846457569331633\n",
      "7 15 0.30729187215576514\n",
      "7 16 0.2864387659171499\n",
      "7 17 -0.19511314956978598\n",
      "7 18 0.0025971548128613854\n",
      "7 19 0.25859904475011153\n",
      "7 20 -0.06301390510123366\n",
      "7 21 0.1678305582338596\n",
      "7 22 -0.5571662466619434\n",
      "7 23 0.19165468876322064\n",
      "7 24 -0.4216150873945125\n",
      "7 25 0.7519532748627621\n",
      "7 26 -0.17182287607620786\n",
      "8 9 -0.18495054098452188\n",
      "8 10 -0.13372453069840465\n",
      "8 11 0.13195877367039968\n",
      "8 12 -0.016030078233515703\n",
      "8 13 0.01857786036985739\n",
      "8 14 0.015797081386412275\n",
      "8 15 0.19872076323370738\n",
      "8 16 0.10232296113773788\n",
      "8 17 -0.17525160321049493\n",
      "8 18 -0.01890449320546723\n",
      "8 19 -0.6234519116044084\n",
      "8 20 0.2414758890750103\n",
      "8 21 -0.15964183420488817\n",
      "8 22 0.6443988134727744\n",
      "8 23 -0.12647282727285145\n",
      "8 24 0.7846542640040303\n",
      "8 25 0.006122662913700398\n",
      "8 26 -0.4618164588993864\n",
      "9 10 -0.4928076447413346\n",
      "9 11 -0.9732598110847899\n",
      "9 12 0.1621888742626247\n",
      "9 13 -0.06974732167751277\n",
      "9 14 -0.18821828581164812\n",
      "9 15 -0.06322930752539184\n",
      "9 16 0.06279259205280677\n",
      "9 17 0.11470390314517492\n",
      "9 18 -0.044137760147858265\n",
      "9 19 0.2764783565682607\n",
      "9 20 -0.058836912002973966\n",
      "9 21 0.0016728643091304279\n",
      "9 22 0.019788901250818794\n",
      "9 23 -0.10947732109117284\n",
      "9 24 -0.042412000531427706\n",
      "9 25 0.012420474870084587\n",
      "9 26 0.28616335191705683\n",
      "10 11 0.6636284482103498\n",
      "10 12 -0.08165818675702635\n",
      "10 13 0.10919471381955727\n",
      "10 14 0.14893794246702546\n",
      "10 15 -0.038398809935113666\n",
      "10 16 0.019749371540960063\n",
      "10 17 0.06808214698335842\n",
      "10 18 0.09489094960728596\n",
      "10 19 0.13681457934550204\n",
      "10 20 -0.007884300453538353\n",
      "10 21 0.008643680993296354\n",
      "10 22 0.03311767286619169\n",
      "10 23 0.09227408119100584\n",
      "10 24 -0.025298938133215685\n",
      "10 25 0.006582619206877972\n",
      "10 26 0.13995541297290814\n",
      "11 12 -0.19112453613270416\n",
      "11 13 0.09608673791892532\n",
      "11 14 0.2254765885505981\n",
      "11 15 0.08634977799998134\n",
      "11 16 -0.05756447829106071\n",
      "11 17 -0.12207291814616919\n",
      "11 18 0.051449214181023224\n",
      "11 19 -0.19543083850828352\n",
      "11 20 0.07746762357577794\n",
      "11 21 0.0029408659433346183\n",
      "11 22 -0.018406604202106103\n",
      "11 23 0.11917757554190209\n",
      "11 24 0.027546902206215404\n",
      "11 25 0.01817769211176579\n",
      "11 26 -0.22279688716848098\n",
      "12 13 -0.656389370153071\n",
      "12 14 -0.9743114827123921\n",
      "12 15 -0.11505868852947009\n",
      "12 16 0.2482761462049837\n",
      "12 17 0.1804212484248794\n",
      "12 18 0.01727014961186211\n",
      "12 19 -0.043185399748987295\n",
      "12 20 0.04362558876178246\n",
      "12 21 -0.10524859925326452\n",
      "12 22 0.22152421095582492\n",
      "12 23 -0.07010439891324034\n",
      "12 24 0.20219802245176027\n",
      "12 25 -0.07423697513518049\n",
      "12 26 0.04343033053682768\n",
      "13 14 0.8040219135128388\n",
      "13 15 -0.2827801407080405\n",
      "13 16 0.510197607643246\n",
      "13 17 0.40165193759041273\n",
      "13 18 -0.05288036003530707\n",
      "13 19 0.00030602049825009396\n",
      "13 20 0.05936564070801321\n",
      "13 21 0.15809977871115183\n",
      "13 22 -0.004984239435662288\n",
      "13 23 0.03202017906695353\n",
      "13 24 0.0018137456425049853\n",
      "13 25 -0.0007428573361530417\n",
      "13 26 -0.01635044574821469\n",
      "14 15 0.009131969421164735\n",
      "14 16 -0.047752179699964356\n",
      "14 17 -0.025677611138396263\n",
      "14 18 -0.023734516404259623\n",
      "14 19 0.03432934628576426\n",
      "14 20 -0.015438953948950125\n",
      "14 21 0.12764202065358718\n",
      "14 22 -0.1730732070517011\n",
      "14 23 0.0701187022300296\n",
      "14 24 -0.15723291296023548\n",
      "14 25 0.05826256366468882\n",
      "14 26 -0.03840353115356898\n",
      "15 16 -0.12458625309400345\n",
      "15 17 -0.9582275622018454\n",
      "15 18 -0.04515481671773365\n",
      "15 19 0.07623947762040652\n",
      "15 20 0.16789908163783912\n",
      "15 21 -0.044849506210495375\n",
      "15 22 -0.12132533642458666\n",
      "15 23 0.018999523381337858\n",
      "15 24 0.01836592483582264\n",
      "15 25 0.596054583789209\n",
      "15 26 -0.21195799912381943\n",
      "16 17 0.3954533489193622\n",
      "16 18 -0.07679719672486722\n",
      "16 19 -0.0339939820789476\n",
      "16 20 0.215453666966767\n",
      "16 21 0.07867667999540648\n",
      "16 22 0.21732455982743157\n",
      "16 23 -0.03325692907174828\n",
      "16 24 0.2667640088120487\n",
      "16 25 0.1608376447716415\n",
      "16 26 -0.07351018679339372\n",
      "17 18 0.02308891110713994\n",
      "17 19 -0.05151004489998487\n",
      "17 20 -0.09937036728361712\n",
      "17 21 0.06343395886388752\n",
      "17 22 0.1746182903620702\n",
      "17 23 -0.028551124794849083\n",
      "17 24 0.052156007824758474\n",
      "17 25 -0.5010609098109796\n",
      "17 26 0.20283367854722192\n",
      "18 19 -0.1625861718575156\n",
      "18 20 -0.37884602916363813\n",
      "18 21 -0.6133913866171214\n",
      "18 22 0.10437697185080098\n",
      "18 23 0.7716498182451741\n",
      "18 24 -0.06425952418323774\n",
      "18 25 -0.007387503047569147\n",
      "18 26 -0.04758973346705391\n",
      "19 20 0.002134314221630675\n",
      "19 21 0.13076825695350425\n",
      "19 22 -0.3349492598906581\n",
      "19 23 -0.13943802406407144\n",
      "19 24 -0.5220905105701653\n",
      "19 25 0.11985209261436698\n",
      "19 26 0.8243648447176276\n",
      "20 21 0.34989600144867\n",
      "20 22 0.16699801372943196\n",
      "20 23 0.0426416121194159\n",
      "20 24 0.23304639682931075\n",
      "20 25 0.010949151249767532\n",
      "20 26 -0.19696242024589258\n",
      "21 22 -0.3399455508379934\n",
      "21 23 -0.06786160973774709\n",
      "21 24 -0.22326617365959772\n",
      "21 25 0.11268799552494554\n",
      "21 26 -0.1021804048601105\n",
      "22 23 -0.22116038592346532\n",
      "22 24 0.9292092220593098\n",
      "22 25 -0.38012461426381394\n",
      "22 26 0.08138418829602119\n",
      "23 24 -0.307259140420703\n",
      "23 25 0.145733925605941\n",
      "23 26 -0.28801631883336254\n",
      "24 25 -0.15480189118900567\n",
      "24 26 -0.21362372617546288\n",
      "25 26 -0.35416104699901513\n",
      "[ 5.92943406e-01+0.00000000e+00j  4.22054602e-01+0.00000000e+00j\n",
      "  3.69676843e-01+0.00000000e+00j  1.95963764e-01+0.00000000e+00j\n",
      "  1.14904879e-01+0.00000000e+00j  6.12891382e-02+0.00000000e+00j\n",
      "  2.34499442e-02+0.00000000e+00j  1.19910548e-02+0.00000000e+00j\n",
      "  6.45532671e-03+0.00000000e+00j  2.17332714e-03+0.00000000e+00j\n",
      "  9.51177454e-04+0.00000000e+00j  1.97554274e-04+0.00000000e+00j\n",
      "  1.04066801e-07+0.00000000e+00j  6.49831991e-08+0.00000000e+00j\n",
      "  5.07063985e-08+0.00000000e+00j  1.79228496e-08+0.00000000e+00j\n",
      "  7.79721306e-09+0.00000000e+00j  1.67790813e-11+0.00000000e+00j\n",
      " -2.37662371e-17+0.00000000e+00j  2.24265822e-17+0.00000000e+00j\n",
      " -8.95444339e-19+8.09506167e-18j -8.95444339e-19-8.09506167e-18j\n",
      "  1.71790421e-17+0.00000000e+00j  4.03181449e-18+0.00000000e+00j\n",
      " -3.46465891e-22+0.00000000e+00j  2.77906115e-23+2.56136239e-23j\n",
      "  2.77906115e-23-2.56136239e-23j]\n",
      "1.0\n",
      "[-3.35780185e-04+0.j -5.59386934e-02+0.j  2.19057295e-02+0.j\n",
      " -9.26281380e-03+0.j  7.85949060e-02+0.j -3.50506432e-02+0.j\n",
      "  1.53460627e-02+0.j -1.74108741e-01+0.j  5.45570784e-02+0.j\n",
      " -1.96515132e-05+0.j -3.73869111e-06+0.j  1.73286530e-06+0.j\n",
      "  5.96266773e-05+0.j -6.16290407e-06+0.j -1.43353103e-05+0.j\n",
      " -1.88377939e-04+0.j -1.30297414e-05+0.j  4.04658651e-05+0.j\n",
      "  1.01146149e-01+0.j -2.51195884e-01+0.j -5.57754410e-03+0.j\n",
      " -1.83223752e-01+0.j  3.07067357e-01+0.j -3.50671845e-02+0.j\n",
      "  3.05818659e-01+0.j -8.10273652e-01+0.j  5.34137605e-02+0.j]\n"
     ]
    }
   ],
   "source": [
    "J = result.jac\n",
    "JTJ = J.transpose().dot(J)\n",
    "plt.imshow(JTJ)\n",
    "plt.show()\n",
    "#####\n",
    "JTJ\n",
    "\n",
    "m, n = JTJ.shape\n",
    "\n",
    "for i in range(m):\n",
    "    for j in range(i+1, n):\n",
    "        print(i, j, JTJ[i,j] / np.sqrt(JTJ[i,i]) / np.sqrt(JTJ[j,j]))\n",
    "        \n",
    "w, u = np.linalg.eig(JTJ)\n",
    "print(w)\n",
    "u0 = u[:, np.argmax(w)]\n",
    "print(np.linalg.norm(u0))\n",
    "print(u[:, np.argmax(w)])\n"
   ]
  },
  {
   "cell_type": "code",
   "execution_count": 355,
   "metadata": {},
   "outputs": [
    {
     "name": "stdout",
     "output_type": "stream",
     "text": [
      "mean pearson: 0.9909995732600203\n"
     ]
    },
    {
     "data": {
      "image/png": "[encoded data removed]",
      "text/plain": [
       "<matplotlib.figure.Figure at 0x7f8a2b2b76d8>"
      ]
     },
     "metadata": {},
     "output_type": "display_data"
    },
    {
     "data": {
      "image/png": "[encoded data removed]",
      "text/plain": [
       "<matplotlib.figure.Figure at 0x7f8a242e0358>"
      ]
     },
     "metadata": {},
     "output_type": "display_data"
    },
    {
     "data": {
      "image/png": "[encoded data removed]",
      "text/plain": [
       "<matplotlib.figure.Figure at 0x7f8a1d397278>"
      ]
     },
     "metadata": {},
     "output_type": "display_data"
    },
    {
     "data": {
      "image/png": "[encoded data removed]",
      "text/plain": [
       "<matplotlib.figure.Figure at 0x7f8a1f5713c8>"
      ]
     },
     "metadata": {},
     "output_type": "display_data"
    }
   ],
   "source": [
    "def pearson(a,b):\n",
    "    return a.transpose().dot(b).trace() / np.linalg.norm(a) / np.linalg.norm(b)\n",
    "\n",
    "qs = []\n",
    "xs = []\n",
    "ys = []\n",
    "zs = []\n",
    "pearsons = []\n",
    "\n",
    "for d in fit_data:\n",
    "    obs = d.cov\n",
    "    pred = new_predict(d, result.x)\n",
    "    qs.append(np.linalg.norm(d.kf-d.ki))\n",
    "    pearsons.append(pearson(obs,pred))\n",
    "    xs.append(d.center[0,0])\n",
    "    ys.append(d.center[1,0])\n",
    "    zs.append(d.center[2,0])\n",
    "    \n",
    "print(\"mean pearson:\", sum(pearsons)/len(pearsons))\n",
    "    \n",
    "plt.scatter(qs, pearsons)\n",
    "plt.show()\n",
    "\n",
    "plt.scatter(xs, pearsons)\n",
    "plt.show()\n",
    "\n",
    "plt.scatter(ys, pearsons)\n",
    "plt.show()\n",
    "\n",
    "plt.scatter(zs, pearsons)\n",
    "plt.show()\n"
   ]
  },
  {
   "cell_type": "code",
   "execution_count": 356,
   "metadata": {},
   "outputs": [
    {
     "name": "stdout",
     "output_type": "stream",
     "text": [
      "mean pearson: 0.9287788951840595\n"
     ]
    },
    {
     "data": {
      "image/png": "[encoded data removed]",
      "text/plain": [
       "<matplotlib.figure.Figure at 0x7f8a5c9c7390>"
      ]
     },
     "metadata": {},
     "output_type": "display_data"
    }
   ],
   "source": [
    "\n",
    "qs = []\n",
    "xs = []\n",
    "ys = []\n",
    "zs = []\n",
    "pearsons = []\n",
    "\n",
    "for d in fit_data:\n",
    "    obs = d.cov\n",
    "    pred = new_predict(d, result.x)\n",
    "    rho = pearson(obs,pred)\n",
    "    \n",
    "    if (rho > 0.96):\n",
    "        continue\n",
    "    \n",
    "    qs.append(np.linalg.norm(d.kf-d.ki))\n",
    "    pearsons.append(pearson(obs,pred))\n",
    "    xs.append(d.center[0,0])\n",
    "    ys.append(d.center[1,0])\n",
    "    zs.append(d.center[2,0])\n",
    "    \n",
    "print(\"mean pearson:\", sum(pearsons)/len(pearsons))\n",
    "    \n",
    "plt.scatter(xs, ys)\n",
    "plt.show()\n"
   ]
  },
  {
   "cell_type": "code",
   "execution_count": 382,
   "metadata": {},
   "outputs": [
    {
     "data": {
      "image/png": "[encoded data removed]",
      "text/plain": [
       "<matplotlib.figure.Figure at 0x7f8a244ab9e8>"
      ]
     },
     "metadata": {},
     "output_type": "display_data"
    },
    {
     "name": "stdout",
     "output_type": "stream",
     "text": [
      "[6.49108768e-06 2.87444112e-06 5.14030471e-07]\n"
     ]
    },
    {
     "data": {
      "image/png": "[encoded data removed]",
      "text/plain": [
       "<matplotlib.figure.Figure at 0x7f8a24d2e2e8>"
      ]
     },
     "metadata": {},
     "output_type": "display_data"
    },
    {
     "name": "stdout",
     "output_type": "stream",
     "text": [
      "[7.25921534e-06 3.23721767e-06 6.10628100e-07]\n"
     ]
    }
   ],
   "source": [
    "\n",
    "import random\n",
    "d= random.sample(fit_data, 1)[0]\n",
    "\n",
    "obs = d.cov\n",
    "plt.imshow(obs)\n",
    "plt.show()\n",
    "w, _ = np.linalg.eig(obs)\n",
    "print(w)\n",
    "\n",
    "pred = new_predict(d, result.x)\n",
    "plt.imshow(pred)\n",
    "plt.show()\n",
    "w, _ = np.linalg.eig(pred)\n",
    "print(w)"
   ]
  },
  {
   "cell_type": "code",
   "execution_count": 375,
   "metadata": {},
   "outputs": [
    {
     "data": {
      "image/png": "[encoded data removed]",
      "text/plain": [
       "<matplotlib.figure.Figure at 0x7f8a1c949c88>"
      ]
     },
     "metadata": {},
     "output_type": "display_data"
    },
    {
     "name": "stdout",
     "output_type": "stream",
     "text": [
      "[[ 1.78980670e-06 -1.35847346e-06  1.18390100e-08]\n",
      " [-1.35847346e-06  2.88129458e-06 -4.11489360e-07]\n",
      " [ 1.18390100e-08 -4.11489360e-07  1.35590727e-06]]\n"
     ]
    },
    {
     "data": {
      "image/png": "[encoded data removed]",
      "text/plain": [
       "<matplotlib.figure.Figure at 0x7f8a24358a90>"
      ]
     },
     "metadata": {},
     "output_type": "display_data"
    },
    {
     "name": "stdout",
     "output_type": "stream",
     "text": [
      "[[ 5.26983771e-12 -1.12378700e-10  7.70028995e-11]\n",
      " [-1.12378700e-10  3.49225284e-09 -2.14627168e-09]\n",
      " [ 7.70028995e-11 -2.14627168e-09  2.32235971e-09]]\n"
     ]
    },
    {
     "data": {
      "image/png": "[encoded data removed]",
      "text/plain": [
       "<matplotlib.figure.Figure at 0x7f8a2484b860>"
      ]
     },
     "metadata": {},
     "output_type": "display_data"
    },
    {
     "name": "stdout",
     "output_type": "stream",
     "text": [
      "[[ 4.67142129e-08 -1.30057800e-08  7.96731515e-09]\n",
      " [-1.30057800e-08  1.59654015e-07  1.76651181e-08]\n",
      " [ 7.96731515e-09  1.76651181e-08  1.04641714e-07]]\n"
     ]
    }
   ],
   "source": [
    "sigmaD = result.x[:9].reshape(3,3)\n",
    "sigmaD = sigmaD.dot(sigmaD.transpose())\n",
    "\n",
    "plt.imshow(sigmaD)\n",
    "plt.show()\n",
    "print(sigmaD)\n",
    "\n",
    "sigmaM = result.x[9:18].reshape(3,3)\n",
    "sigmaM = sigmaM.dot(sigmaM.transpose())\n",
    "\n",
    "plt.imshow(sigmaM)\n",
    "plt.show()\n",
    "print(sigmaM)\n",
    "\n",
    "sigmaS = result.x[18:27].reshape(3,3)\n",
    "sigmaS = sigmaS.dot(sigmaS.transpose())\n",
    "\n",
    "plt.imshow(sigmaS)\n",
    "plt.show()\n",
    "print(sigmaS)"
   ]
  },
  {
   "cell_type": "code",
   "execution_count": 92,
   "metadata": {},
   "outputs": [
    {
     "ename": "NameError",
     "evalue": "name 'q' is not defined",
     "output_type": "error",
     "traceback": [
      "\u001b[0;31m---------------------------------------------------------------------------\u001b[0m",
      "\u001b[0;31mNameError\u001b[0m                                 Traceback (most recent call last)",
      "\u001b[0;32m<ipython-input-92-acfd6c7f49fa>\u001b[0m in \u001b[0;36m<module>\u001b[0;34m()\u001b[0m\n\u001b[1;32m     22\u001b[0m \u001b[0me2\u001b[0m \u001b[0;34m/=\u001b[0m \u001b[0mnp\u001b[0m\u001b[0;34m.\u001b[0m\u001b[0mlinalg\u001b[0m\u001b[0;34m.\u001b[0m\u001b[0mnorm\u001b[0m\u001b[0;34m(\u001b[0m\u001b[0me2\u001b[0m\u001b[0;34m)\u001b[0m\u001b[0;34m\u001b[0m\u001b[0m\n\u001b[1;32m     23\u001b[0m \u001b[0;34m\u001b[0m\u001b[0m\n\u001b[0;32m---> 24\u001b[0;31m \u001b[0me3\u001b[0m \u001b[0;34m=\u001b[0m \u001b[0md\u001b[0m\u001b[0;34m.\u001b[0m\u001b[0mqdot\u001b[0m \u001b[0;34m/\u001b[0m \u001b[0mnp\u001b[0m\u001b[0;34m.\u001b[0m\u001b[0mlinalg\u001b[0m\u001b[0;34m.\u001b[0m\u001b[0mnorm\u001b[0m\u001b[0;34m(\u001b[0m\u001b[0mq\u001b[0m\u001b[0;34m)\u001b[0m \u001b[0;31m#/ np.linalg.norm(d.qdot)#/ (np.linalg.norm(d.q) * L)\u001b[0m\u001b[0;34m\u001b[0m\u001b[0m\n\u001b[0m\u001b[1;32m     25\u001b[0m \u001b[0;31m#e3 = np.cross(d.q, e1) / np.linalg.norm(q)\u001b[0m\u001b[0;34m\u001b[0m\u001b[0;34m\u001b[0m\u001b[0m\n\u001b[1;32m     26\u001b[0m \u001b[0;34m\u001b[0m\u001b[0m\n",
      "\u001b[0;31mNameError\u001b[0m: name 'q' is not defined"
     ]
    }
   ],
   "source": [
    "d = random.sample(fit_data, 1)[0]\n",
    "\n",
    "J = d.Jd\n",
    "JI = np.linalg.inv(J)\n",
    "R = d.R.transpose()\n",
    "\n",
    "A = JI.transpose().dot(d.det_icov).dot(JI)\n",
    "A = R.dot(A).dot(R.transpose())\n",
    "\n",
    "#e1 = np.cross(d.kf, d.ki)\n",
    "#e2 = np.cross(d.kf, e1)\n",
    "\n",
    "#e1 /= np.linalg.norm(e1) / np.linalg.norm(d.kf)\n",
    "#e2 /= np.linalg.norm(e2) / np.linalg.norm(d.kf)\n",
    "L = abs(d.qdot.dot(d.kf).trace() / np.linalg.norm(d.qdot) / np.linalg.norm(d.kf))\n",
    "#e3 = d.qdot * np.linalg.norm(d.q) / np.linalg.norm(d.qdot)\n",
    "#e3 = np.cross(d.q, e1)\n",
    "\n",
    "e1 = np.cross(d.kf.reshape(3), d.qdot.reshape(3))\n",
    "e2 = np.cross(d.kf, e1)\n",
    "e1 /= np.linalg.norm(e1)\n",
    "e2 /= np.linalg.norm(e2)\n",
    "\n",
    "e3 = d.qdot / np.linalg.norm(q) #/ np.linalg.norm(d.qdot)#/ (np.linalg.norm(d.q) * L)\n",
    "#e3 = np.cross(d.q, e1) / np.linalg.norm(q)\n",
    "\n",
    "B = np.array([e1.reshape(3), e2.reshape(3), e3.reshape(3)]).transpose()\n",
    "#BI = np.linalg.inv(B)\n",
    "BT = B.transpose()\n",
    "\n",
    "A = BT.dot(A).dot(B)\n",
    "\n",
    "w, u = np.linalg.eig(np.linalg.inv(A))\n",
    "#print(w)\n",
    "print(np.sqrt(w) / np.pi * 180)\n",
    "print(u)\n",
    "\n",
    "plt.imshow(A)\n",
    "plt.show()"
   ]
  },
  {
   "cell_type": "code",
   "execution_count": 925,
   "metadata": {},
   "outputs": [
    {
     "data": {
      "text/plain": [
       "0.9679746530503546"
      ]
     },
     "execution_count": 925,
     "metadata": {},
     "output_type": "execute_result"
    }
   ],
   "source": [
    "L"
   ]
  },
  {
   "cell_type": "code",
   "execution_count": 126,
   "metadata": {},
   "outputs": [
    {
     "name": "stdout",
     "output_type": "stream",
     "text": [
      "   Iteration     Total nfev        Cost      Cost reduction    Step norm     Optimality   \n",
      "       0              1         3.2322e-08                                    1.66e-08    \n",
      "       1              6         3.2321e-08      3.25e-13       2.92e-05       4.66e-09    \n",
      "       2              8         3.2321e-08      7.40e-14       1.46e-05       2.10e-09    \n",
      "       3             10         3.2321e-08      1.86e-14       7.30e-06       1.08e-09    \n",
      "The maximum number of function evaluations is exceeded.\n",
      "Function evaluations 10, initial cost 3.2322e-08, final cost 3.2321e-08, first-order optimality 1.08e-09.\n",
      " active_mask: array([0., 0., 0., 0., 0., 0., 0., 0., 0., 0., 0., 0., 0., 0., 0., 0., 0.,\n",
      "       0., 0., 0., 0., 0., 0., 0., 0., 0., 0.])\n",
      "        cost: 3.232115275759742e-08\n",
      "         fun: array([-2.41522405e-06,  2.13403853e-07,  3.44629804e-08, ...,\n",
      "       -1.07698496e-06,  6.60033184e-07, -2.62704066e-07])\n",
      "        grad: array([-1.84256001e-10, -2.84449899e-11, -1.43366076e-10, -9.12330494e-10,\n",
      "       -2.90087163e-10, -1.98480071e-11,  4.34954352e-10, -3.79329505e-10,\n",
      "       -1.08163074e-09, -1.37794924e-10, -4.85047317e-10,  2.31273065e-10,\n",
      "       -2.97573440e-11, -1.67169396e-10, -6.34972799e-11, -2.50679169e-10,\n",
      "       -5.41839271e-10,  4.60936771e-10, -7.24605194e-11,  4.56880669e-13,\n",
      "       -4.78172603e-11, -8.52342795e-11, -2.07838175e-11, -5.61275179e-11,\n",
      "       -2.29279171e-11,  5.09645238e-11, -6.71065620e-12])\n",
      "         jac: array([[-2.10854137e-06,  2.38216569e-06,  2.25997724e-06, ...,\n",
      "         7.25965974e-04, -3.50109956e-04,  3.09118407e-04],\n",
      "       [ 8.86732830e-05, -1.02797701e-04, -9.22613278e-05, ...,\n",
      "         2.85372445e-04, -1.39768268e-04,  1.23296436e-04],\n",
      "       [ 9.04553603e-05, -1.03572370e-04, -9.55141678e-05, ...,\n",
      "         2.99499586e-04,  1.62434132e-04,  2.18243285e-04],\n",
      "       ...,\n",
      "       [ 8.21393648e-05, -1.86500561e-04,  1.03266071e-05, ...,\n",
      "         2.40714142e-04,  1.30954284e-04,  1.75523487e-04],\n",
      "       [ 6.92430416e-05,  1.94443390e-04, -3.61293724e-04, ...,\n",
      "         3.47599970e-04,  1.90896047e-04,  2.54001929e-04],\n",
      "       [-5.74240267e-05,  2.07258162e-04, -8.54749063e-05, ...,\n",
      "         1.88856359e-06,  1.03695214e-06,  1.37992657e-06]])\n",
      "     message: 'The maximum number of function evaluations is exceeded.'\n",
      "        nfev: 10\n",
      "        njev: 4\n",
      "  optimality: 1.0816307448587054e-09\n",
      "      status: 0\n",
      "     success: False\n",
      "           x: array([ 1.11204531e-04, -1.75306591e-03,  1.59870073e-03,  1.80615050e-04,\n",
      "        2.96090773e-04, -7.35962329e-04, -1.04161852e-03,  6.59211836e-04,\n",
      "        1.67715894e-03,  3.53822746e-03, -1.66246076e-03, -8.13459121e-04,\n",
      "       -2.21075310e-03, -6.09693407e-04, -3.50464864e-03, -2.69140468e-03,\n",
      "        5.40670747e-04,  1.98764490e-03,  7.37510954e-05, -1.88335573e-04,\n",
      "       -1.49629398e-05, -3.71785820e-04,  2.41865439e-05, -2.02949991e-04,\n",
      "        7.09334015e-06,  1.50888815e-04,  4.74162894e-05])\n"
     ]
    }
   ],
   "source": [
    "from scipy.optimize import least_squares\n",
    "\n",
    "class ShapeModel:\n",
    "    def __init__(self):\n",
    "        # crystal mosaicity\n",
    "        self.mos = np.zeros((3,3), dtype=np.float)\n",
    "        # beam divergence\n",
    "        self.div = np.zeros((3,3), dtype=np.float)\n",
    "        # crystal shape\n",
    "        self.shape = np.zeros((3,3), dtype=np.float)\n",
    "        # cross term between scattering point and divergence\n",
    "        self.div_cross = np.zeros((3,3), dtype=np.float)\n",
    "        # detector bleeding\n",
    "        self.bleed = np.zeros((3,3), dtype=np.float)\n",
    "        # cross term mosaicity and scattering point\n",
    "        self.mos_cross = np.zeros((3,3), dtype=np.float)\n",
    "        \n",
    "    def encode(self):\n",
    "        return np.concatenate(\n",
    "            [self.mos.flatten(), \n",
    "            self.div.flatten(), \n",
    "            self.shape.flatten()])#,             \n",
    "            #self.div_cross.flatten(),           \n",
    "            #self.bleed.flatten(),\n",
    "            #self.mos_cross.flatten()])\n",
    "        #])\n",
    "    \n",
    "    def decode(self, x):\n",
    "        sym = lambda x: 0.5*(x+x.transpose())\n",
    "        self.mos = x[:9].reshape(3,3)\n",
    "        self.div = x[9:18].reshape(3,3)\n",
    "        self.shape = x[18:27].reshape(3,3)\n",
    "        #self.div_cross = x[27:36].reshape(3,3)\n",
    "        #self.bleed = sym(x[36:45].reshape(3,3))\n",
    "        #self.mos_cross = sym(x[45:].reshape(3,3))\n",
    "            \n",
    "        #self.mos = x[0]\n",
    "        #self.div = x[1]\n",
    "        #self.shape = sym(x[2:11].reshape(3,3))\n",
    "        #self.cov = x[11:20].reshape(3,3)\n",
    "        \n",
    "    def scatter_cov(self):\n",
    "        big_cov = np.zeros((9,9), dtype=np.float)\n",
    "        big_cov[:3, :3] = self.mos\n",
    "        big_cov[3:6, 3:6] = self.div\n",
    "        big_cov[6:9, 6:9] = self.shape\n",
    "        \n",
    "        big_cov[:3, 3:6] = self.mos_cross\n",
    "        big_cov[3:6, :3] = self.mos_cross.transpose()\n",
    "        \n",
    "        big_cov[3:6, 6:9] = self.div_cross\n",
    "        big_cov[6:9, 3:6] = self.div_cross.transpose()\n",
    "        \n",
    "        return big_cov\n",
    "            \n",
    "        \n",
    "    def predict(self, data):\n",
    "        q = data.kf-data.ki      \n",
    "        kf = data.kf  \n",
    "       \n",
    "        R = data.R\n",
    "        Pq = np.identity(3) - q.dot(q.transpose()) / np.linalg.norm(q)**2\n",
    "        Pk = np.identity(3) - kf.dot(kf.transpose()) / np.linalg.norm(kf)**2\n",
    "                \n",
    "        M = self.mos.dot(self.mos.transpose())\n",
    "        M = R.transpose().dot(M).dot(R)\n",
    "        \n",
    "        cov = np.linalg.norm(q)**2 * Pq.dot(M).dot(Pq)\n",
    "        \n",
    "        B = self.div.dot(self.div.transpose())\n",
    "        cov += np.linalg.norm(kf)**2 * Pk.dot(B).dot(Pk)\n",
    "        \n",
    "        S = self.shape.dot(self.shape.transpose())\n",
    "        cov += Pk.dot(S).dot(Pk)\n",
    "                \n",
    "        return R.dot(cov).dot(R.transpose())\n",
    "    \n",
    "    def residual(x, fit_data):\n",
    "        m = ShapeModel()\n",
    "        m.decode(x)\n",
    "        \n",
    "        res = []\n",
    "\n",
    "        for dt in fit_data:\n",
    "            pred_cov = m.predict(dt)\n",
    "            obs_cov = dt.cov\n",
    "            #diff = np.linalg.inv(S)-np.linalg.inv(Sfit)\n",
    "            diff = obs_cov-pred_cov\n",
    "            res.extend(diff.flatten())\n",
    "            #res.append(KL_divergence(S, Sfit))\n",
    "\n",
    "        return res\n",
    "    \n",
    "    def summarize(self):\n",
    "        print(\"Mosaicity\")\n",
    "        plt.imshow(self.mos)\n",
    "        plt.show()\n",
    "        w, _ = np.linalg.eig(self.mos)\n",
    "        print(w)\n",
    "\n",
    "def KL_divergence(S0, S1):\n",
    "    k, _ = S0.shape    \n",
    "    A = np.linalg.inv(S1).dot(S0)    \n",
    "    return 0.5 * (A.trace() - k - np.log(np.linalg.det(A)))\n",
    "\n",
    "\n",
    "#model = ShapeModel()\n",
    "#model.mos = 0.01 * np.identity(3)\n",
    "#model.div = 0.3 * np.identity(3)\n",
    "#model.div[1,1] = 0.001\n",
    "#model.shape = 0.01 * np.identity(3)\n",
    "\n",
    "result = least_squares(lambda x: ShapeModel.residual(x, fit_data), model.encode(), gtol=3e-16, verbose=2,max_nfev=10)\n",
    "print(result)\n",
    "\n",
    "model.decode(result.x)\n",
    "\n",
    "#model.summarize()\n",
    "#print(model.bleed)"
   ]
  },
  {
   "cell_type": "code",
   "execution_count": 127,
   "metadata": {},
   "outputs": [
    {
     "data": {
      "image/png": "[encoded data removed]",
      "text/plain": [
       "<matplotlib.figure.Figure at 0x7fc6ac984ac8>"
      ]
     },
     "metadata": {},
     "output_type": "display_data"
    },
    {
     "data": {
      "image/png": "[encoded data removed]",
      "text/plain": [
       "<matplotlib.figure.Figure at 0x7fc6ac9b42e8>"
      ]
     },
     "metadata": {},
     "output_type": "display_data"
    },
    {
     "data": {
      "image/png": "[encoded data removed]",
      "text/plain": [
       "<matplotlib.figure.Figure at 0x7fc6ac984ba8>"
      ]
     },
     "metadata": {},
     "output_type": "display_data"
    }
   ],
   "source": [
    "print_eig = lambda x: print(np.linalg.eig(x)[0])\n",
    "\n",
    "M = model.mos\n",
    "M = M.dot(M.transpose())\n",
    "\n",
    "D = model.div\n",
    "D = D.dot(D.transpose())\n",
    "\n",
    "S = model.shape\n",
    "S = S.dot(S.transpose())\n",
    "\n",
    "plt.imshow(M)\n",
    "plt.show()\n",
    "\n",
    "plt.imshow(D)\n",
    "plt.show()\n",
    "\n",
    "plt.imshow(S)\n",
    "plt.show()"
   ]
  },
  {
   "cell_type": "code",
   "execution_count": 120,
   "metadata": {},
   "outputs": [
    {
     "data": {
      "text/plain": [
       "array([[ 0.55556853,  0.73189715,  0.3945506 ],\n",
       "       [ 0.62988681, -0.06072013, -0.77430981],\n",
       "       [ 0.54275798, -0.67870437,  0.49474655]])"
      ]
     },
     "execution_count": 120,
     "metadata": {},
     "output_type": "execute_result"
    }
   ],
   "source": [
    "np.linalg.eig(D)[1]"
   ]
  },
  {
   "cell_type": "code",
   "execution_count": 184,
   "metadata": {},
   "outputs": [
    {
     "ename": "NameError",
     "evalue": "name 'S' is not defined",
     "output_type": "error",
     "traceback": [
      "\u001b[0;31m---------------------------------------------------------------------------\u001b[0m",
      "\u001b[0;31mNameError\u001b[0m                                 Traceback (most recent call last)",
      "\u001b[0;32m<ipython-input-184-da7940117375>\u001b[0m in \u001b[0;36m<module>\u001b[0;34m()\u001b[0m\n\u001b[1;32m      2\u001b[0m \u001b[0mdt\u001b[0m \u001b[0;34m=\u001b[0m \u001b[0mrandom\u001b[0m\u001b[0;34m.\u001b[0m\u001b[0msample\u001b[0m\u001b[0;34m(\u001b[0m\u001b[0mfit_data\u001b[0m\u001b[0;34m,\u001b[0m \u001b[0;36m1\u001b[0m\u001b[0;34m)\u001b[0m\u001b[0;34m[\u001b[0m\u001b[0;36m0\u001b[0m\u001b[0;34m]\u001b[0m\u001b[0;34m\u001b[0m\u001b[0m\n\u001b[1;32m      3\u001b[0m \u001b[0;34m\u001b[0m\u001b[0m\n\u001b[0;32m----> 4\u001b[0;31m \u001b[0mplt\u001b[0m\u001b[0;34m.\u001b[0m\u001b[0mimshow\u001b[0m\u001b[0;34m(\u001b[0m\u001b[0mS\u001b[0m\u001b[0;34m)\u001b[0m\u001b[0;34m\u001b[0m\u001b[0m\n\u001b[0m\u001b[1;32m      5\u001b[0m \u001b[0mplt\u001b[0m\u001b[0;34m.\u001b[0m\u001b[0mshow\u001b[0m\u001b[0;34m(\u001b[0m\u001b[0;34m)\u001b[0m\u001b[0;34m\u001b[0m\u001b[0m\n\u001b[1;32m      6\u001b[0m \u001b[0;34m\u001b[0m\u001b[0m\n",
      "\u001b[0;31mNameError\u001b[0m: name 'S' is not defined"
     ]
    }
   ],
   "source": [
    "import random\n",
    "dt = random.sample(fit_data, 1)[0]\n",
    "\n",
    "plt.imshow(S)\n",
    "plt.show()\n",
    "\n",
    "Sfit = model.predict(dt)\n",
    "\n",
    "plt.imshow(Sfit)\n",
    "plt.show()\n",
    "\n",
    "w_obs, u_obs = np.linalg.eig(S)\n",
    "w_fit, u_fit = np.linalg.eig(Sfit)\n",
    "\n",
    "print(w_obs)\n",
    "print(w_fit)\n",
    "\n",
    "\n",
    "print(S.transpose().dot(Sfit).trace() / np.linalg.norm(S) / np.linalg.norm(Sfit))"
   ]
  },
  {
   "cell_type": "code",
   "execution_count": 125,
   "metadata": {},
   "outputs": [
    {
     "data": {
      "image/png": "[encoded data removed]",
      "text/plain": [
       "<matplotlib.figure.Figure at 0x7fc6acd994e0>"
      ]
     },
     "metadata": {},
     "output_type": "display_data"
    },
    {
     "data": {
      "image/png": "[encoded data removed]",
      "text/plain": [
       "<matplotlib.figure.Figure at 0x7fc6a7f6c5f8>"
      ]
     },
     "metadata": {},
     "output_type": "display_data"
    },
    {
     "data": {
      "image/png": "[encoded data removed]",
      "text/plain": [
       "<matplotlib.figure.Figure at 0x7fc6acaa4a90>"
      ]
     },
     "metadata": {},
     "output_type": "display_data"
    },
    {
     "ename": "NameError",
     "evalue": "name 'good_fit_data' is not defined",
     "output_type": "error",
     "traceback": [
      "\u001b[0;31m---------------------------------------------------------------------------\u001b[0m",
      "\u001b[0;31mNameError\u001b[0m                                 Traceback (most recent call last)",
      "\u001b[0;32m<ipython-input-125-13d1bf4f9f97>\u001b[0m in \u001b[0;36m<module>\u001b[0;34m()\u001b[0m\n\u001b[1;32m     41\u001b[0m \u001b[0mpstd\u001b[0m \u001b[0;34m=\u001b[0m \u001b[0mpearson\u001b[0m\u001b[0;34m.\u001b[0m\u001b[0mstd\u001b[0m\u001b[0;34m(\u001b[0m\u001b[0;34m)\u001b[0m\u001b[0;34m\u001b[0m\u001b[0m\n\u001b[1;32m     42\u001b[0m \u001b[0;34m\u001b[0m\u001b[0m\n\u001b[0;32m---> 43\u001b[0;31m \u001b[0mprint\u001b[0m\u001b[0;34m(\u001b[0m\u001b[0;34m\"number of good peaks:\"\u001b[0m\u001b[0;34m,\u001b[0m \u001b[0mlen\u001b[0m\u001b[0;34m(\u001b[0m\u001b[0mgood_fit_data\u001b[0m\u001b[0;34m)\u001b[0m\u001b[0;34m)\u001b[0m\u001b[0;34m\u001b[0m\u001b[0m\n\u001b[0m\u001b[1;32m     44\u001b[0m \u001b[0mprint\u001b[0m\u001b[0;34m(\u001b[0m\u001b[0;34m\"mean pearson:\"\u001b[0m\u001b[0;34m,\u001b[0m \u001b[0mpmean\u001b[0m\u001b[0;34m)\u001b[0m\u001b[0;34m\u001b[0m\u001b[0m\n\u001b[1;32m     45\u001b[0m \u001b[0mprint\u001b[0m\u001b[0;34m(\u001b[0m\u001b[0;34m\"mean error:\"\u001b[0m\u001b[0;34m,\u001b[0m \u001b[0msum\u001b[0m\u001b[0;34m(\u001b[0m\u001b[0merrors\u001b[0m\u001b[0;34m)\u001b[0m\u001b[0;34m/\u001b[0m\u001b[0mlen\u001b[0m\u001b[0;34m(\u001b[0m\u001b[0merrors\u001b[0m\u001b[0;34m)\u001b[0m\u001b[0;34m)\u001b[0m\u001b[0;34m\u001b[0m\u001b[0m\n",
      "\u001b[0;31mNameError\u001b[0m: name 'good_fit_data' is not defined"
     ]
    }
   ],
   "source": [
    "errors = []\n",
    "KL_errors = []\n",
    "pearson = []\n",
    "qs = []\n",
    "\n",
    "#good_fit_data = fit_data\n",
    "\n",
    "new_fit_data = []\n",
    "\n",
    "for dt in fit_data:\n",
    "    pred = model.predict(dt)\n",
    "    \n",
    "    #err = np.linalg.norm(S-Sfit)\n",
    "    err = np.linalg.norm(pred-dt.cov) /np.linalg.norm(dt.cov)\n",
    "    \n",
    "    if (err > 1e10):\n",
    "        continue\n",
    "    \n",
    "    errors.append(err)\n",
    "    KL_errors.append(KL_divergence(dt.cov, pred))\n",
    "    pearson.append(dt.cov.transpose().dot(pred).trace() / np.linalg.norm(pred) / np.linalg.norm(dt.cov))\n",
    "    qs.append(np.linalg.norm(dt.q))\n",
    "    \n",
    "    if (pearson[-1] > 0.95):\n",
    "        new_fit_data.append(dt)\n",
    "    \n",
    "    \n",
    "qs = np.array(qs)\n",
    "\n",
    "plt.scatter(qs, errors)\n",
    "plt.show()\n",
    "\n",
    "plt.scatter(qs, pearson)\n",
    "plt.show()\n",
    "\n",
    "plt.scatter(qs, KL_errors)\n",
    "plt.show()\n",
    "\n",
    "pearson = np.array(pearson)\n",
    "pmean = pearson.mean()\n",
    "pstd = pearson.std()\n",
    "\n",
    "print(\"number of good peaks:\", len(good_fit_data))\n",
    "print(\"mean pearson:\", pmean)\n",
    "print(\"mean error:\", sum(errors)/len(errors))\n",
    "\n",
    "result = least_squares(lambda x: ShapeModel.residual(x, new_fit_data), model.encode(), gtol=3e-16)\n",
    "#print(result)\n",
    "\n",
    "model.decode(result.x)\n",
    "\n",
    "\n",
    "print_eig(model.mos)\n",
    "print_eig(model.div)\n",
    "print_eig(model.shape)\n",
    "print_eig(model.bleed)\n",
    "print_eig(model.scatter_cov())\n"
   ]
  },
  {
   "cell_type": "code",
   "execution_count": null,
   "metadata": {
    "collapsed": true
   },
   "outputs": [],
   "source": []
  },
  {
   "cell_type": "code",
   "execution_count": 307,
   "metadata": {},
   "outputs": [
    {
     "data": {
      "image/png": "[encoded data removed]",
      "text/plain": [
       "<matplotlib.figure.Figure at 0x7f9a06236208>"
      ]
     },
     "metadata": {},
     "output_type": "display_data"
    }
   ],
   "source": [
    "def ellipse_center(cov, z):\n",
    "    A = np.linalg.inv(cov)\n",
    "    b = A[:2,2]\n",
    "    c = A[2,2]\n",
    "    A2 = A[:2,:2]\n",
    "    \n",
    "    r2 = 1 - c*z**2 + b.transpose().dot(A2.dot(b))\n",
    "    center = -np.linalg.inv(A2).dot(b)*z\n",
    "    \n",
    "    return center\n",
    "    \n",
    "    \n",
    "dt = random.sample(fit_data, 1)[0]\n",
    "pred_cov = model.predict(dt)\n",
    "obs_cov = dt.cov\n",
    "\n",
    "# to detector space\n",
    "JI = np.linalg.inv(dt.Jd)\n",
    "pred_cov = JI.dot(pred_cov).dot(JI.transpose())\n",
    "obs_cov = JI.dot(obs_cov).dot(JI.transpose())\n",
    "\n",
    "zs = np.linspace(-3, 3)\n",
    "\n",
    "obs_xs = []\n",
    "obs_ys = []\n",
    "\n",
    "pred_xs = []\n",
    "pred_ys = []\n",
    "\n",
    "dx = []\n",
    "dy = []\n",
    "\n",
    "dc = []\n",
    "\n",
    "for z in zs:\n",
    "    c_obs = ellipse_center(obs_cov, z)\n",
    "    c_pred = ellipse_center(pred_cov, z)\n",
    "    \n",
    "    pred_xs.append(c_pred[0])\n",
    "    pred_ys.append(c_pred[1])\n",
    "    \n",
    "    obs_xs.append(c_obs[0])\n",
    "    obs_ys.append(c_obs[1])\n",
    "    \n",
    "    dx.append(c_obs[0]-c_pred[0])\n",
    "    dy.append(c_obs[1]-c_pred[1])\n",
    "        \n",
    "    dc.append(np.linalg.norm(np.array(c_obs)-np.array(c_pred)))\n",
    "    \n",
    "    \n",
    "#plt.scatter(zs, pred_xs)\n",
    "#plt.show()\n",
    "\n",
    "#plt.scatter(obs_ys, pred_ys)\n",
    "#plt.show()\n",
    "\n",
    "plt.scatter(zs, dx)\n",
    "plt.scatter(zs, dy)\n",
    "plt.show()\n"
   ]
  },
  {
   "cell_type": "code",
   "execution_count": null,
   "metadata": {
    "collapsed": true
   },
   "outputs": [],
   "source": [
    "Mos, Beam, Shape, Det = decode(result.x)\n",
    "\n",
    "w, u = np.linalg.eig(Beam)\n",
    "print(np.sqrt(w) / 2.67 / np.pi * 180)\n",
    "print(u)"
   ]
  },
  {
   "cell_type": "code",
   "execution_count": null,
   "metadata": {
    "collapsed": true
   },
   "outputs": [],
   "source": [
    "errors = []\n",
    "mean = np.zeros((3,3), dtype=np.float)\n",
    "\n",
    "good_fit_data = fit_data\n",
    "\n",
    "for S, R, A in fit_data:\n",
    "    mean += S\n",
    "    \n",
    "mean /= len(fit_data)\n",
    "\n",
    "for S, R, A in fit_data:\n",
    "    errors.append(np.linalg.norm(S-mean) / np.linalg.norm(S))\n",
    "    \n",
    "plt.plot(range(len(errors)), errors)\n",
    "plt.show()\n",
    "\n",
    "errors = np.array(errors)\n",
    "print(errors.mean())\n",
    "print(errors.std())\n",
    "\n",
    "new_fit_data = []\n",
    "\n",
    "for i in range(len(fit_data)):\n",
    "    if errors[i] > errors.mean() + 3*errors.std():\n",
    "        print(i, (errors[i]-errors.mean()) / errors.std())\n",
    "    else:\n",
    "        good_fit_data.append(fit_data[i])\n",
    "               \n"
   ]
  },
  {
   "cell_type": "code",
   "execution_count": null,
   "metadata": {
    "collapsed": true
   },
   "outputs": [],
   "source": [
    "def mean_DKL(M, D, data):\n",
    "    DKLs = [ DKL(S, fit_model(M, D, R, A)) for S, R, A in data]\n",
    "    return np.array(DKLs).mean()\n",
    "\n",
    "def DKL(S1, S2):\n",
    "    d = 0    \n",
    "    d = np.log(np.linalg.det(S2) / np.linalg.det(S1))\n",
    "    d += np.linalg.inv(S2).dot(S1).trace()\n",
    "    d -= S1.shape[0]\n",
    "    d *= 0.5    \n",
    "    return d    "
   ]
  },
  {
   "cell_type": "code",
   "execution_count": 250,
   "metadata": {},
   "outputs": [
    {
     "data": {
      "image/png": "[encoded data removed]",
      "text/plain": [
       "<matplotlib.figure.Figure at 0x7f9a061e4128>"
      ]
     },
     "metadata": {},
     "output_type": "display_data"
    }
   ],
   "source": [
    "J = result.jac\n",
    "JTJ = J.transpose().dot(J)\n",
    "JTJ = 0.5 * (JTJ + JTJ.transpose())\n",
    "w, u = np.linalg.eigh(JTJ)\n",
    "JTJI = np.linalg.inv(JTJ)\n",
    "\n",
    "COV = JTJI.dot(JTJI.transpose())\n",
    "\n",
    "plt.imshow(COV)\n",
    "plt.show()"
   ]
  },
  {
   "cell_type": "code",
   "execution_count": 252,
   "metadata": {},
   "outputs": [
    {
     "data": {
      "text/plain": [
       "array([[ 6.50590556e+17,  1.31832199e+30, -2.53946959e+29, ...,\n",
       "         3.89233886e+33,  4.74959913e+32, -3.21384682e+27],\n",
       "       [ 1.31832199e+30,  1.08956550e+43, -1.91617890e+42, ...,\n",
       "         4.04154536e+46,  5.95441324e+46, -2.27234766e+40],\n",
       "       [-2.53946959e+29, -1.91617890e+42,  3.39464964e+41, ...,\n",
       "        -7.52503397e+45, -9.70418725e+45,  3.90700538e+39],\n",
       "       ...,\n",
       "       [ 3.89233886e+33,  4.04154536e+46, -7.52503397e+45, ...,\n",
       "         3.19351322e+50,  6.59180247e+49, -5.28978437e+43],\n",
       "       [ 4.74959913e+32,  5.95441324e+46, -9.70418725e+45, ...,\n",
       "         6.59180247e+49,  5.89964069e+50, -1.60717376e+44],\n",
       "       [-3.21384682e+27, -2.27234766e+40,  3.90700538e+39, ...,\n",
       "        -5.28978437e+43, -1.60717376e+44,  1.17940413e+38]])"
      ]
     },
     "execution_count": 252,
     "metadata": {},
     "output_type": "execute_result"
    }
   ],
   "source": [
    "COV"
   ]
  },
  {
   "cell_type": "code",
   "execution_count": null,
   "metadata": {
    "collapsed": true
   },
   "outputs": [],
   "source": []
  },
  {
   "cell_type": "code",
   "execution_count": null,
   "metadata": {
    "collapsed": true
   },
   "outputs": [],
   "source": []
  },
  {
   "cell_type": "code",
   "execution_count": null,
   "metadata": {
    "collapsed": true
   },
   "outputs": [],
   "source": []
  },
  {
   "cell_type": "code",
   "execution_count": null,
   "metadata": {
    "collapsed": true
   },
   "outputs": [],
   "source": []
  },
  {
   "cell_type": "code",
   "execution_count": null,
   "metadata": {
    "collapsed": true
   },
   "outputs": [],
   "source": []
  },
  {
   "cell_type": "code",
   "execution_count": null,
   "metadata": {
    "collapsed": true
   },
   "outputs": [],
   "source": []
  },
  {
   "cell_type": "code",
   "execution_count": null,
   "metadata": {
    "collapsed": true
   },
   "outputs": [],
   "source": []
  },
  {
   "cell_type": "code",
   "execution_count": null,
   "metadata": {
    "collapsed": true
   },
   "outputs": [],
   "source": []
  },
  {
   "cell_type": "code",
   "execution_count": null,
   "metadata": {
    "collapsed": true
   },
   "outputs": [],
   "source": []
  },
  {
   "cell_type": "code",
   "execution_count": null,
   "metadata": {
    "collapsed": true
   },
   "outputs": [],
   "source": []
  },
  {
   "cell_type": "code",
   "execution_count": null,
   "metadata": {
    "collapsed": true
   },
   "outputs": [],
   "source": []
  }
 ],
 "metadata": {
  "kernelspec": {
   "display_name": "Python 3",
   "language": "python",
   "name": "python3"
  },
  "language_info": {
   "codemirror_mode": {
    "name": "ipython",
    "version": 3
   },
   "file_extension": ".py",
   "mimetype": "text/x-python",
   "name": "python",
   "nbconvert_exporter": "python",
   "pygments_lexer": "ipython3",
   "version": "3.6.4"
  }
 },
 "nbformat": 4,
 "nbformat_minor": 2
}
