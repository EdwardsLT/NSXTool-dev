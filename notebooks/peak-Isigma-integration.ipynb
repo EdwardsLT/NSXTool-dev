{
 "cells": [
  {
   "cell_type": "code",
   "execution_count": 1,
   "metadata": {},
   "outputs": [],
   "source": [
    "import pynsx as nsx\n",
    "import math\n",
    "import numpy as np\n",
    "from matplotlib import pyplot as plt\n",
    "from os import path"
   ]
  },
  {
   "cell_type": "code",
   "execution_count": 2,
   "metadata": {
    "collapsed": true
   },
   "outputs": [],
   "source": [
    "expt = nsx.Experiment('test', 'BioDiff2500')\n",
    "diff = expt.getDiffractometer()\n",
    "filename = path.expanduser(\"~/data/biodiff/p11202.hdf\")\n",
    "reader = nsx.HDF5DataReader(filename, diff)\n",
    "data = nsx.DataSet(reader, diff)\n",
    "expt.addData(data)"
   ]
  },
  {
   "cell_type": "code",
   "execution_count": 3,
   "metadata": {},
   "outputs": [
    {
     "name": "stdout",
     "output_type": "stream",
     "text": [
      "9200\n"
     ]
    }
   ],
   "source": [
    "kernel = nsx.AnnularKernel(data.nRows(), data.nCols())\n",
    "convolver = nsx.Convolver()\n",
    "convolver.setKernel(kernel.matrix())\n",
    "\n",
    "finder = nsx.PeakFinder()\n",
    "finder.setConvolver(convolver)\n",
    "finder.setMinComponents(30)\n",
    "finder.setMaxComponents(10000)\n",
    "finder.setIntegrationScale(3.0)\n",
    "finder.setBackgroundScale(5.0)\n",
    "finder.setSearchScale(1.0)\n",
    "finder.setThresholdType(1)\n",
    "finder.setThresholdValue(80.0)\n",
    "finder.setKernel(kernel)\n",
    "\n",
    "peaks = finder.find([data])\n",
    "print(len(peaks))"
   ]
  },
  {
   "cell_type": "code",
   "execution_count": 4,
   "metadata": {
    "collapsed": true
   },
   "outputs": [],
   "source": [
    "for peak in peaks:\n",
    "    peak.setSelected(True)"
   ]
  },
  {
   "cell_type": "code",
   "execution_count": 5,
   "metadata": {},
   "outputs": [
    {
     "name": "stdout",
     "output_type": "stream",
     "text": [
      "8144\n"
     ]
    }
   ],
   "source": [
    "# clean up peaks\n",
    "good_peaks = []\n",
    "\n",
    "for peak in peaks:\n",
    "    I = peak.correctedIntensity().value()\n",
    "    \n",
    "    # keep only selected peaks\n",
    "    if not peak.isSelected():\n",
    "        continue\n",
    "    \n",
    "    # keep only strong peaks for autoindex\n",
    "    if I < 1000.0:\n",
    "        continue\n",
    "        \n",
    "    d = 1.0 / np.linalg.norm(peak.q().rowVector())\n",
    "    \n",
    "    # keep peaks only in specified d range\n",
    "    if d > 40.0 or d < 1.8:\n",
    "        continue\n",
    "        \n",
    "    good_peaks.append(peak)\n",
    "    \n",
    "print(len(good_peaks))"
   ]
  },
  {
   "cell_type": "code",
   "execution_count": 6,
   "metadata": {},
   "outputs": [
    {
     "name": "stdout",
     "output_type": "stream",
     "text": [
      "auto indexing 8144 peaks\n",
      "indexed 3833 of 8144\n",
      "found unit cell with parameters: \n",
      "a:  54.37636516462557\n",
      "b:  58.50673662794026\n",
      "c:  67.37399546643454\n",
      "alpha:  1.5707963267948966\n",
      "beta:  1.5707963267948966\n",
      "gamma:  1.5707963267948968\n"
     ]
    }
   ],
   "source": [
    "indexer = nsx.AutoIndexer(nsx.ProgressHandler())\n",
    "\n",
    "for peak in good_peaks:\n",
    "    indexer.addPeak(peak)\n",
    "\n",
    "print(\"auto indexing\", len(good_peaks), \"peaks\")\n",
    "        \n",
    "params = nsx.IndexerParameters()\n",
    "handler = nsx.ProgressHandler()\n",
    "indexer.autoIndex(params)\n",
    "\n",
    "soln = indexer.getSolutions()[0]\n",
    "assert(soln[1] > 92.0)\n",
    "\n",
    "uc = nsx.UnitCell(soln[0])\n",
    "sample = diff.getSample()\n",
    "sample.addUnitCell(uc)\n",
    "\n",
    "indexed_peaks = []\n",
    "\n",
    "for peak in good_peaks:\n",
    "    hkl = nsx.MillerIndex(peak.q(), uc)\n",
    "    if np.linalg.norm(hkl.error()) < 0.2:\n",
    "        peak.addUnitCell(uc, True)\n",
    "        indexed_peaks.append(peak)\n",
    "    \n",
    "ch = uc.character()\n",
    "print(\"indexed\", len(indexed_peaks), \"of\", len(good_peaks))\n",
    "print(\"found unit cell with parameters: \")\n",
    "print(\"a: \", ch.a)\n",
    "print(\"b: \", ch.b)\n",
    "print(\"c: \", ch.c)\n",
    "print(\"alpha: \", ch.alpha)\n",
    "print(\"beta: \", ch.beta)\n",
    "print(\"gamma: \", ch.gamma)"
   ]
  },
  {
   "cell_type": "code",
   "execution_count": 7,
   "metadata": {},
   "outputs": [],
   "source": [
    "lower = np.array([-1.0, -1.0, -1.0])\n",
    "upper = np.array([1.0, 1.0, 1.0])\n",
    "\n",
    "peak_list = nsx.PeakList()\n",
    "for p in good_peaks:\n",
    "    peak_list.push_back(p)\n",
    "\n",
    "si = nsx.ShapeIntegrator(nsx.AABB(lower, upper), 10, 10, 10)\n",
    "si.integrate(peak_list, data, 4.0, 4.5, 6.0)"
   ]
  },
  {
   "cell_type": "code",
   "execution_count": 8,
   "metadata": {},
   "outputs": [
    {
     "name": "stdout",
     "output_type": "stream",
     "text": [
      "Help on ShapeLibrary in module pynsx object:\n",
      "\n",
      "class ShapeLibrary(builtins.object)\n",
      " |  Methods defined here:\n",
      " |  \n",
      " |  __del__ lambda self\n",
      " |  \n",
      " |  __getattr__ lambda self, name\n",
      " |  \n",
      " |  __init__(self)\n",
      " |      Initialize self.  See help(type(self)) for accurate signature.\n",
      " |  \n",
      " |  __repr__ = _swig_repr(self)\n",
      " |  \n",
      " |  __setattr__ lambda self, name, value\n",
      " |  \n",
      " |  __swig_destroy__ = delete_ShapeLibrary(...)\n",
      " |  \n",
      " |  addPeak(self, peak, profile, integrated_profile)\n",
      " |  \n",
      " |  findNeighbors(self, ev, radius, nframes)\n",
      " |  \n",
      " |  meanCovariance(self, reference_peak, radius, nframes)\n",
      " |  \n",
      " |  meanIntegratedProfile(self, ev, radius, nframes)\n",
      " |  \n",
      " |  meanPearson(self)\n",
      " |  \n",
      " |  meanProfile(self, ev, radius, nframes)\n",
      " |  \n",
      " |  predictCovariance(self, *args)\n",
      " |  \n",
      " |  updateFit(self, num_iterations)\n",
      " |  \n",
      " |  ----------------------------------------------------------------------\n",
      " |  Data descriptors defined here:\n",
      " |  \n",
      " |  __dict__\n",
      " |      dictionary for instance variables (if defined)\n",
      " |  \n",
      " |  __weakref__\n",
      " |      list of weak references to the object (if defined)\n",
      " |  \n",
      " |  ----------------------------------------------------------------------\n",
      " |  Data and other attributes defined here:\n",
      " |  \n",
      " |  __swig_getmethods__ = {}\n",
      " |  \n",
      " |  __swig_setmethods__ = {}\n",
      "\n"
     ]
    }
   ],
   "source": [
    "lib = si.library()\n",
    "help(lib)"
   ]
  },
  {
   "cell_type": "code",
   "execution_count": 9,
   "metadata": {},
   "outputs": [
    {
     "data": {
      "image/png": "[encoded data removed]",
      "text/plain": [
       "<matplotlib.figure.Figure at 0x7fab239b3400>"
      ]
     },
     "metadata": {},
     "output_type": "display_data"
    },
    {
     "data": {
      "image/png": "[encoded data removed]",
      "text/plain": [
       "<matplotlib.figure.Figure at 0x7fab1c2e3c18>"
      ]
     },
     "metadata": {},
     "output_type": "display_data"
    },
    {
     "data": {
      "image/png": "[encoded data removed]",
      "text/plain": [
       "<matplotlib.figure.Figure at 0x7fab1c315550>"
      ]
     },
     "metadata": {},
     "output_type": "display_data"
    },
    {
     "data": {
      "image/png": "[encoded data removed]",
      "text/plain": [
       "<matplotlib.figure.Figure at 0x7fab1c21ccc0>"
      ]
     },
     "metadata": {},
     "output_type": "display_data"
    }
   ],
   "source": [
    "prof = lib.meanIntegratedProfile(nsx.DetectorEvent(1050, 450, 50), 2000, 100)\n",
    "bins = prof.bins()\n",
    "\n",
    "vals = np.array([ b.value() for b in bins ])\n",
    "sigs = np.array([ b.sigma() for b in bins ])\n",
    "\n",
    "\n",
    "plt.plot(vals)\n",
    "plt.show()\n",
    "\n",
    "plt.plot(sigs)\n",
    "plt.show()\n",
    "\n",
    "cm = [ 0.0 for v in vals ]\n",
    "\n",
    "for i in range(len(vals)):\n",
    "    for j in range(i, len(vals)):\n",
    "        cm[j] += vals[i]\n",
    "        \n",
    "cm = [0.0] + cm\n",
    "plt.plot(cm)\n",
    "plt.show()\n",
    "\n",
    "plt.plot(np.sqrt(sigs)/vals)\n",
    "plt.show()"
   ]
  },
  {
   "cell_type": "code",
   "execution_count": 10,
   "metadata": {},
   "outputs": [
    {
     "ename": "SystemError",
     "evalue": "<built-in function IPeakIntegrator_integrate> returned a result with an error set",
     "output_type": "error",
     "traceback": [
      "\u001b[0;31m---------------------------------------------------------------------------\u001b[0m",
      "\u001b[0;31mAttributeError\u001b[0m                            Traceback (most recent call last)",
      "\u001b[0;32m<ipython-input-10-40f6f3c011c0>\u001b[0m in \u001b[0;36mcompute\u001b[0;34m(self, peak, region)\u001b[0m\n\u001b[1;32m     10\u001b[0m         \u001b[0;31m#self._meanBackground = s._meanBackground\u001b[0m\u001b[0;34m\u001b[0m\u001b[0;34m\u001b[0m\u001b[0m\n\u001b[0;32m---> 11\u001b[0;31m         \u001b[0mself\u001b[0m\u001b[0;34m.\u001b[0m\u001b[0mdata\u001b[0m\u001b[0;34m.\u001b[0m\u001b[0mappend\u001b[0m\u001b[0;34m(\u001b[0m\u001b[0;34m(\u001b[0m\u001b[0mpeak\u001b[0m\u001b[0;34m,\u001b[0m \u001b[0mnsx\u001b[0m\u001b[0;34m.\u001b[0m\u001b[0mPeakData\u001b[0m\u001b[0;34m(\u001b[0m\u001b[0mregion\u001b[0m\u001b[0;34m.\u001b[0m\u001b[0mpeakData\u001b[0m\u001b[0;34m(\u001b[0m\u001b[0;34m)\u001b[0m\u001b[0;34m)\u001b[0m\u001b[0;34m)\u001b[0m\u001b[0;34m)\u001b[0m\u001b[0;34m\u001b[0m\u001b[0m\n\u001b[0m\u001b[1;32m     12\u001b[0m         \u001b[0;32mreturn\u001b[0m \u001b[0;32mTrue\u001b[0m\u001b[0;34m\u001b[0m\u001b[0m\n",
      "\u001b[0;32m/usr/ssd_home/jonathan/git/nsxtool/build/swig/pynsx.py\u001b[0m in \u001b[0;36m<lambda>\u001b[0;34m(self, name)\u001b[0m\n\u001b[1;32m   3283\u001b[0m     \u001b[0m__swig_getmethods__\u001b[0m \u001b[0;34m=\u001b[0m \u001b[0;34m{\u001b[0m\u001b[0;34m}\u001b[0m\u001b[0;34m\u001b[0m\u001b[0m\n\u001b[0;32m-> 3284\u001b[0;31m     \u001b[0m__getattr__\u001b[0m \u001b[0;34m=\u001b[0m \u001b[0;32mlambda\u001b[0m \u001b[0mself\u001b[0m\u001b[0;34m,\u001b[0m \u001b[0mname\u001b[0m\u001b[0;34m:\u001b[0m \u001b[0m_swig_getattr\u001b[0m\u001b[0;34m(\u001b[0m\u001b[0mself\u001b[0m\u001b[0;34m,\u001b[0m \u001b[0mIntegrationRegion\u001b[0m\u001b[0;34m,\u001b[0m \u001b[0mname\u001b[0m\u001b[0;34m)\u001b[0m\u001b[0;34m\u001b[0m\u001b[0m\n\u001b[0m\u001b[1;32m   3285\u001b[0m     \u001b[0m__repr__\u001b[0m \u001b[0;34m=\u001b[0m \u001b[0m_swig_repr\u001b[0m\u001b[0;34m\u001b[0m\u001b[0m\n",
      "\u001b[0;32m/usr/ssd_home/jonathan/git/nsxtool/build/swig/pynsx.py\u001b[0m in \u001b[0;36m_swig_getattr\u001b[0;34m(self, class_type, name)\u001b[0m\n\u001b[1;32m     79\u001b[0m         \u001b[0;32mreturn\u001b[0m \u001b[0mmethod\u001b[0m\u001b[0;34m(\u001b[0m\u001b[0mself\u001b[0m\u001b[0;34m)\u001b[0m\u001b[0;34m\u001b[0m\u001b[0m\n\u001b[0;32m---> 80\u001b[0;31m     \u001b[0;32mraise\u001b[0m \u001b[0mAttributeError\u001b[0m\u001b[0;34m(\u001b[0m\u001b[0;34m\"'%s' object has no attribute '%s'\"\u001b[0m \u001b[0;34m%\u001b[0m \u001b[0;34m(\u001b[0m\u001b[0mclass_type\u001b[0m\u001b[0;34m.\u001b[0m\u001b[0m__name__\u001b[0m\u001b[0;34m,\u001b[0m \u001b[0mname\u001b[0m\u001b[0;34m)\u001b[0m\u001b[0;34m)\u001b[0m\u001b[0;34m\u001b[0m\u001b[0m\n\u001b[0m\u001b[1;32m     81\u001b[0m \u001b[0;34m\u001b[0m\u001b[0m\n",
      "\u001b[0;31mAttributeError\u001b[0m: 'IntegrationRegion' object has no attribute 'peakData'",
      "\nThe above exception was the direct cause of the following exception:\n",
      "\u001b[0;31mSystemError\u001b[0m                               Traceback (most recent call last)",
      "\u001b[0;32m<ipython-input-10-40f6f3c011c0>\u001b[0m in \u001b[0;36m<module>\u001b[0;34m()\u001b[0m\n\u001b[1;32m     18\u001b[0m \u001b[0;34m\u001b[0m\u001b[0m\n\u001b[1;32m     19\u001b[0m \u001b[0mg\u001b[0m \u001b[0;34m=\u001b[0m \u001b[0mGaussianIntegrator\u001b[0m\u001b[0;34m(\u001b[0m\u001b[0;34m)\u001b[0m\u001b[0;34m\u001b[0m\u001b[0m\n\u001b[0;32m---> 20\u001b[0;31m \u001b[0mg\u001b[0m\u001b[0;34m.\u001b[0m\u001b[0mintegrate\u001b[0m\u001b[0;34m(\u001b[0m\u001b[0mpeak_list\u001b[0m\u001b[0;34m,\u001b[0m \u001b[0mdata\u001b[0m\u001b[0;34m,\u001b[0m \u001b[0;36m3.0\u001b[0m\u001b[0;34m,\u001b[0m \u001b[0;36m4.0\u001b[0m\u001b[0;34m,\u001b[0m \u001b[0;36m6.0\u001b[0m\u001b[0;34m)\u001b[0m\u001b[0;34m\u001b[0m\u001b[0m\n\u001b[0m\u001b[1;32m     21\u001b[0m \u001b[0mprint\u001b[0m\u001b[0;34m(\u001b[0m\u001b[0;34m\"done\"\u001b[0m\u001b[0;34m)\u001b[0m\u001b[0;34m\u001b[0m\u001b[0m\n",
      "\u001b[0;32m/usr/ssd_home/jonathan/git/nsxtool/build/swig/pynsx.py\u001b[0m in \u001b[0;36mintegrate\u001b[0;34m(self, peaks, data, peak_end, bkg_begin, bkg_end)\u001b[0m\n\u001b[1;32m   3596\u001b[0m \u001b[0;34m\u001b[0m\u001b[0m\n\u001b[1;32m   3597\u001b[0m     \u001b[0;32mdef\u001b[0m \u001b[0mintegrate\u001b[0m\u001b[0;34m(\u001b[0m\u001b[0mself\u001b[0m\u001b[0;34m,\u001b[0m \u001b[0mpeaks\u001b[0m\u001b[0;34m,\u001b[0m \u001b[0mdata\u001b[0m\u001b[0;34m,\u001b[0m \u001b[0mpeak_end\u001b[0m\u001b[0;34m,\u001b[0m \u001b[0mbkg_begin\u001b[0m\u001b[0;34m,\u001b[0m \u001b[0mbkg_end\u001b[0m\u001b[0;34m)\u001b[0m\u001b[0;34m:\u001b[0m\u001b[0;34m\u001b[0m\u001b[0m\n\u001b[0;32m-> 3598\u001b[0;31m         \u001b[0;32mreturn\u001b[0m \u001b[0m_pynsx\u001b[0m\u001b[0;34m.\u001b[0m\u001b[0mIPeakIntegrator_integrate\u001b[0m\u001b[0;34m(\u001b[0m\u001b[0mself\u001b[0m\u001b[0;34m,\u001b[0m \u001b[0mpeaks\u001b[0m\u001b[0;34m,\u001b[0m \u001b[0mdata\u001b[0m\u001b[0;34m,\u001b[0m \u001b[0mpeak_end\u001b[0m\u001b[0;34m,\u001b[0m \u001b[0mbkg_begin\u001b[0m\u001b[0;34m,\u001b[0m \u001b[0mbkg_end\u001b[0m\u001b[0;34m)\u001b[0m\u001b[0;34m\u001b[0m\u001b[0m\n\u001b[0m\u001b[1;32m   3599\u001b[0m \u001b[0;34m\u001b[0m\u001b[0m\n\u001b[1;32m   3600\u001b[0m     \u001b[0;32mdef\u001b[0m \u001b[0mmeanBackground\u001b[0m\u001b[0;34m(\u001b[0m\u001b[0mself\u001b[0m\u001b[0;34m)\u001b[0m\u001b[0;34m:\u001b[0m\u001b[0;34m\u001b[0m\u001b[0m\n",
      "\u001b[0;31mSystemError\u001b[0m: <built-in function IPeakIntegrator_integrate> returned a result with an error set"
     ]
    }
   ],
   "source": [
    "class GaussianIntegrator(nsx.IPeakIntegrator):\n",
    "    def __init__(self):\n",
    "        nsx.IPeakIntegrator.__init__(self)\n",
    "        self.data = []\n",
    "        \n",
    "    def compute(self, peak, region):\n",
    "        #s = nsx.StrongPeakIntegrator()\n",
    "        #s.compute(peak, region)\n",
    "        #self._integratedIntensity = s._integratedIntensity\n",
    "        #self._meanBackground = s._meanBackground\n",
    "        self.data.append((peak, nsx.PeakData(region.peakData())))\n",
    "        return True\n",
    "    \n",
    "peak_list = nsx.PeakList()\n",
    "\n",
    "for p in good_peaks:\n",
    "    peak_list.push_back(p)\n",
    "        \n",
    "g = GaussianIntegrator()\n",
    "g.integrate(peak_list, data, 3.0, 4.0, 6.0)\n",
    "print(\"done\")"
   ]
  },
  {
   "cell_type": "code",
   "execution_count": null,
   "metadata": {},
   "outputs": [],
   "source": [
    "help(nsx.ShapeIntegrator)"
   ]
  },
  {
   "cell_type": "code",
   "execution_count": null,
   "metadata": {
    "collapsed": true
   },
   "outputs": [],
   "source": []
  },
  {
   "cell_type": "code",
   "execution_count": null,
   "metadata": {
    "collapsed": true
   },
   "outputs": [],
   "source": []
  },
  {
   "cell_type": "code",
   "execution_count": null,
   "metadata": {
    "collapsed": true
   },
   "outputs": [],
   "source": []
  },
  {
   "cell_type": "code",
   "execution_count": null,
   "metadata": {
    "collapsed": true
   },
   "outputs": [],
   "source": []
  },
  {
   "cell_type": "code",
   "execution_count": null,
   "metadata": {
    "collapsed": true
   },
   "outputs": [],
   "source": []
  },
  {
   "cell_type": "code",
   "execution_count": null,
   "metadata": {
    "collapsed": true
   },
   "outputs": [],
   "source": []
  },
  {
   "cell_type": "code",
   "execution_count": null,
   "metadata": {
    "collapsed": true
   },
   "outputs": [],
   "source": []
  },
  {
   "cell_type": "code",
   "execution_count": null,
   "metadata": {
    "collapsed": true
   },
   "outputs": [],
   "source": []
  }
 ],
 "metadata": {
  "kernelspec": {
   "display_name": "Python 3",
   "language": "python",
   "name": "python3"
  },
  "language_info": {
   "codemirror_mode": {
    "name": "ipython",
    "version": 3
   },
   "file_extension": ".py",
   "mimetype": "text/x-python",
   "name": "python",
   "nbconvert_exporter": "python",
   "pygments_lexer": "ipython3",
   "version": "3.6.4"
  }
 },
 "nbformat": 4,
 "nbformat_minor": 2
}
